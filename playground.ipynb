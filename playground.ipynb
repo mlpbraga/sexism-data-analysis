{
 "cells": [
  {
   "cell_type": "code",
   "execution_count": 1,
   "metadata": {},
   "outputs": [
    {
     "name": "stdout",
     "output_type": "stream",
     "text": [
      "-> Configuring database...\n",
      "Connected to database: [ec2-54-84-35-171.compute-1.amazonaws.com] @ 0 seconds\n",
      "-> Database setup is done!\n"
     ]
    }
   ],
   "source": [
    "from modules.database_connector import Database\n",
    "print('-> Configuring database...')\n",
    "database = Database()\n",
    "conn = database.get_connection()\n",
    "print('-> Database setup is done!')"
   ]
  },
  {
   "cell_type": "code",
   "execution_count": null,
   "metadata": {},
   "outputs": [],
   "source": [
    "def retrieve_vote_frequency(conn):\n",
    "    print('Retrieving from original database...')\n",
    "    vote_frequency = pd.read_sql_query('''\n",
    "    with count_votes as (select count(v.vote_id) as votes,\n",
    "       comments.comment_id\n",
    "    from comments left join votes v on comments.comment_id = v.comment_id\n",
    "    group by comments.comment_id )\n",
    "\n",
    "    select count(comment_id), votes from count_votes group by votes order by votes desc;\n",
    "    ''', conn)\n",
    "    return vote_frequency"
   ]
  }
 ],
 "metadata": {
  "kernelspec": {
   "display_name": "Python 3 (ipykernel)",
   "language": "python",
   "name": "python3"
  },
  "language_info": {
   "codemirror_mode": {
    "name": "ipython",
    "version": 3
   },
   "file_extension": ".py",
   "mimetype": "text/x-python",
   "name": "python",
   "nbconvert_exporter": "python",
   "pygments_lexer": "ipython3",
   "version": "3.9.9"
  }
 },
 "nbformat": 4,
 "nbformat_minor": 4
}
