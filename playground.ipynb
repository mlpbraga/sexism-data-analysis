{
 "cells": [
  {
   "cell_type": "code",
   "execution_count": 39,
   "metadata": {},
   "outputs": [
    {
     "name": "stdout",
     "output_type": "stream",
     "text": [
      "{$TF_{us}$ + $TF_{un}$} & {0.99766}&{0.91856}&{0.91929}&{0.99765}&{0.95683}&{0.95643} \\\\\n",
      "{$TF_{us}$} & {0.97531}&{0.86193}&{0.85750}&{0.97608}&{0.91256}&{0.91542} \\\\\n",
      "{$TF_{un}$} & {0.83160}&{0.94887}&{0.96143}&{0.78588}&{0.89175}&{0.85958} \\\\\n",
      "{$Q_{c}$} & {0.67145}&{0.66840}&{0.72393}&{0.61059}&{0.69653}&{0.63792} \\\\\n",
      "{$Q_{p}$} & {0.57922}&{0.57195}&{0.69643}&{0.44471}&{0.63241}&{0.50030} \\\\\n",
      "{$Q_{c}$ + $Q_{p}$} & {0.82822}&{0.82452}&{0.84321}&{0.80784}&{0.83557}&{0.81600} \\\\\n",
      "{$Q_{l}$} & {0.58900}&{0.56886}&{0.65750}&{0.49608}&{0.62127}&{0.52982} \\\\\n",
      "{$Q_{d}$} & {0.60660}&{0.56897}&{0.60929}&{0.56588}&{0.60769}&{0.56714} \\\\\n",
      "{$Q_{l}$ + $Q_{d}$} & {0.74964}&{0.67527}&{0.66893}&{0.75490}&{0.70689}&{0.71279} \\\\\n",
      "{$Q_{l}$ + $Q_{s}$ + $Q_{c}$ + $Q_{p}$} & {0.98333}&{0.98625}&{0.98750}&{0.98157}&{0.98539}&{0.98388} \\\\\n",
      "{$TF_{bs}$ + $TF_{bn}$} & {0.94043}&{0.68708}&{0.60214}&{0.95804}&{0.73387}&{0.80015} \\\\\n",
      "{$TF_{bs}$} & {0.87667}&{0.60851}&{0.45464}&{0.92980}&{0.59826}&{0.73552} \\\\\n",
      "{$TF_{bn}$} & {0.61844}&{0.86108}&{0.94714}&{0.35804}&{0.74823}&{0.50525} \\\\\n",
      "{$TF_{us}$ + $TF_{un}$ + $TF_{bs}$ + $TF_{bn}$} & {0.99766}&{0.91856}&{0.91929}&{0.99765}&{0.95683}&{0.95643} \\\\\n",
      "{$TF_{us}$ + $TF_{un}$ + $Q_{l}$ + $Q_{s}$ + $Q_{c}$ + $Q_{p}$} & {0.99964}&{0.99455}&{0.99500}&{0.99961}&{0.99731}&{0.99707} \\\\\n"
     ]
    }
   ],
   "source": [
    "title = 'results_1613085753.6759956'\n",
    "columns = ['$TF_{us}$ + $TF_{un}$',\n",
    "           '$TF_{us}$',\n",
    "           '$TF_{un}$',\n",
    "           '$Q_{c}$',\n",
    "           '$Q_{p}$',\n",
    "           '$Q_{c}$ + $Q_{p}$',\n",
    "           '$Q_{l}$',\n",
    "           '$Q_{d}$',\n",
    "           '$Q_{l}$ + $Q_{d}$',\n",
    "           '$Q_{l}$ + $Q_{s}$ + $Q_{c}$ + $Q_{p}$',\n",
    "           '$TF_{bs}$ + $TF_{bn}$',\n",
    "           '$TF_{bs}$',\n",
    "           '$TF_{bn}$',\n",
    "           '$TF_{us}$ + $TF_{un}$ + $TF_{bs}$ + $TF_{bn}$',\n",
    "           '$TF_{us}$ + $TF_{un}$ + $Q_{l}$ + $Q_{s}$ + $Q_{c}$ + $Q_{p}$',]\n",
    "with open(f'./data/knn/reports/{title}.txt', 'r') as fp:\n",
    "    lines = fp.readlines()\n",
    "    for i in range(len(columns)):\n",
    "        string_to_print = '{%s} &' % columns[i]\n",
    "        print(string_to_print, lines[i], end='')\n"
   ]
  },
  {
   "cell_type": "code",
   "execution_count": null,
   "metadata": {},
   "outputs": [],
   "source": []
  },
  {
   "cell_type": "code",
   "execution_count": null,
   "metadata": {},
   "outputs": [],
   "source": []
  },
  {
   "cell_type": "code",
   "execution_count": null,
   "metadata": {},
   "outputs": [],
   "source": []
  },
  {
   "cell_type": "code",
   "execution_count": null,
   "metadata": {},
   "outputs": [],
   "source": []
  }
 ],
 "metadata": {
  "kernelspec": {
   "display_name": "Python 3",
   "language": "python",
   "name": "python3"
  },
  "language_info": {
   "codemirror_mode": {
    "name": "ipython",
    "version": 3
   },
   "file_extension": ".py",
   "mimetype": "text/x-python",
   "name": "python",
   "nbconvert_exporter": "python",
   "pygments_lexer": "ipython3",
   "version": "3.6.9"
  }
 },
 "nbformat": 4,
 "nbformat_minor": 4
}
