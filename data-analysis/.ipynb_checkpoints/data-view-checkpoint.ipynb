{
 "cells": [
  {
   "cell_type": "code",
   "execution_count": 14,
   "metadata": {},
   "outputs": [],
   "source": [
    "styles = '''\n",
    "<style>\n",
    ".engagement-div {\n",
    "    display: inline-flex;\n",
    "}\n",
    "\n",
    ".engagement-div img {\n",
    "    display: flex;\n",
    "}\n",
    "</style>\n",
    "'''\n",
    "\n"
   ]
  },
  {
   "cell_type": "code",
   "execution_count": 15,
   "metadata": {},
   "outputs": [],
   "source": [
    "engagement_div = '''<div class='engagement-div'>\n",
    "<img src=\"./images/comentários_sexistas_(_soma).png\">\n",
    "<img src=\"./images/comentários_não_sexistas_(_soma).png\">\n",
    "<img src=\"./images/comentários_não_rotulados_(_soma).png\">\n",
    "</div>'''\n",
    "content = engagement_div"
   ]
  },
  {
   "cell_type": "code",
   "execution_count": 16,
   "metadata": {},
   "outputs": [],
   "source": [
    "html = f'''\n",
    "<html>\n",
    "    <head>\n",
    "    <style>\n",
    "    {styles}\n",
    "    </style>\n",
    "    </head>\n",
    "    <body>\n",
    "        {content}\n",
    "\n",
    "    </body>\n",
    "</html>\n",
    "'''"
   ]
  },
  {
   "cell_type": "code",
   "execution_count": 17,
   "metadata": {},
   "outputs": [
    {
     "data": {
      "text/html": [
       "\n",
       "<html>\n",
       "    <head>\n",
       "    <style>\n",
       "    \n",
       "<style>\n",
       ".engagement-div {\n",
       "    display: inline-flex;\n",
       "}\n",
       "</style>\n",
       "\n",
       "    </style>\n",
       "    </head>\n",
       "    <body>\n",
       "        <div class='engagement-div'>\n",
       "<img src=\"./images/comentários_sexistas_(_soma).png\">\n",
       "<img src=\"./images/comentários_não_sexistas_(_soma).png\">\n",
       "<img src=\"./images/comentários_não_rotulados_(_soma).png\">\n",
       "</div>\n",
       "\n",
       "    </body>\n",
       "</html>\n"
      ],
      "text/plain": [
       "<IPython.core.display.HTML object>"
      ]
     },
     "metadata": {},
     "output_type": "display_data"
    }
   ],
   "source": [
    "from IPython.core.display import display, HTML\n",
    "display(HTML(html))"
   ]
  },
  {
   "cell_type": "code",
   "execution_count": null,
   "metadata": {},
   "outputs": [],
   "source": []
  }
 ],
 "metadata": {
  "kernelspec": {
   "display_name": "Python 3",
   "language": "python",
   "name": "python3"
  },
  "language_info": {
   "codemirror_mode": {
    "name": "ipython",
    "version": 3
   },
   "file_extension": ".py",
   "mimetype": "text/x-python",
   "name": "python",
   "nbconvert_exporter": "python",
   "pygments_lexer": "ipython3",
   "version": "3.7.6"
  }
 },
 "nbformat": 4,
 "nbformat_minor": 4
}
