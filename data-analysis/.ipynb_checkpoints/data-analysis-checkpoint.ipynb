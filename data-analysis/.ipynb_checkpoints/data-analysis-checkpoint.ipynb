{
 "cells": [
  {
   "cell_type": "markdown",
   "metadata": {},
   "source": [
    "## Libs"
   ]
  },
  {
   "cell_type": "code",
   "execution_count": null,
   "metadata": {},
   "outputs": [],
   "source": [
    "! pip install stringcase --user"
   ]
  },
  {
   "cell_type": "code",
   "execution_count": null,
   "metadata": {},
   "outputs": [],
   "source": [
    "import numpy as np\n",
    "import pandas as pd\n",
    "import psycopg2\n",
    "import json\n",
    "import time\n",
    "import uuid\n",
    "import datetime\n",
    "import re\n",
    "import stringcase\n",
    "import matplotlib.pyplot as plt\n",
    "\n",
    "import nltk\n",
    "from nltk.corpus import stopwords\n",
    "from string import punctuation\n",
    "from wordcloud import WordCloud\n"
   ]
  },
  {
   "cell_type": "markdown",
   "metadata": {},
   "source": [
    "## Database connection"
   ]
  },
  {
   "cell_type": "code",
   "execution_count": null,
   "metadata": {},
   "outputs": [],
   "source": [
    "DB_NAME = 'templatedb'\n",
    "DB_USER = 'template'\n",
    "DB_HOST = 'ec2-18-190-52-149.us-east-2.compute.amazonaws.com'\n",
    "DB_PORT = 5432\n",
    "DB_TIME = 240\n",
    "DB_PASS = 'templatedb'\n",
    "\n",
    "today = datetime.datetime.now()\n",
    "try:  # connect to postgres\n",
    "    conn = psycopg2.connect(\n",
    "        dbname=DB_NAME,\n",
    "        user=DB_USER,\n",
    "        host=DB_HOST,\n",
    "        port=DB_PORT,\n",
    "        password=DB_PASS,\n",
    "        connect_timeout=DB_TIME\n",
    "    )\n",
    "    tm = time.time()\n",
    "    print('Connected to database: [%s] @ %d seconds' %\n",
    "                 (DB_HOST, time.time() - tm))\n",
    "except Exception as e:\n",
    "    print('Cannot connect to Postgres [%s]' % DB_HOST)\n",
    "    print(str(e))\n",
    "    exit(1)"
   ]
  },
  {
   "cell_type": "markdown",
   "metadata": {},
   "source": [
    "## Functions"
   ]
  },
  {
   "cell_type": "code",
   "execution_count": null,
   "metadata": {},
   "outputs": [],
   "source": [
    "char_colors = ['#FF7CB9','#979FEF']\n",
    "csfont = {'fontname':'Helvetica'}\n",
    "\n",
    "remove_special_char = lambda word: re.sub(r'[!.,\\-\";:~><^%$#@&*\\(\\)-+=_\\'\\?]','', word)\n",
    "\n",
    "def calculate_age(birth): \n",
    "  age = today.year - birth.year - ((today.month, today.day) < (birth.month, birth.day)) \n",
    "  return age\n",
    "\n",
    "def define_class(x):\n",
    "  if x > 0.5:\n",
    "    return 1\n",
    "  elif x < 0.5:\n",
    "    return 0\n",
    "  else:\n",
    "    return 0.5\n",
    "\n",
    "def get_vocabulary(df):\n",
    "  count_vectorizer = CountVectorizer(lowercase=False,stop_words=[])\n",
    "  cv_fit = count_vectorizer.fit_transform(df['content'])\n",
    "  word_list = count_vectorizer.get_feature_names()\n",
    "  frequecy_array = cv_fit.toarray()\n",
    "  count_list = frequecy_array.sum(axis=0)\n",
    "  vocabulary = (dict(zip(word_list, count_list)))\n",
    "  return vocabulary, frequecy_array, word_list\n",
    "\n",
    "def normalize_dict(df):\n",
    "  aux_df = dict({})\n",
    "  for key in df.keys():\n",
    "    aux_df[key] = np.round(df[key]/sum(df.values()),2)*100\n",
    "  return aux_df"
   ]
  },
  {
   "cell_type": "markdown",
   "metadata": {},
   "source": [
    "## Dataset Info"
   ]
  },
  {
   "cell_type": "code",
   "execution_count": null,
   "metadata": {},
   "outputs": [],
   "source": [
    "db_info = dict({})"
   ]
  },
  {
   "cell_type": "markdown",
   "metadata": {},
   "source": [
    "### Users"
   ]
  },
  {
   "cell_type": "code",
   "execution_count": 5,
   "metadata": {},
   "outputs": [],
   "source": [
    "try:\n",
    "    users_df = pd.read_csv('data/users-df.csv')\n",
    "except:\n",
    "    print('Retrieving from original database...')\n",
    "    users_df = pd.read_sql_query('select username, email, birth, gender from users;',conn)\n",
    "    users_df['age'] = users_df['birth'].apply(calculate_age)\n",
    "    users_df.to_csv('data/users-df.csv', index=False)"
   ]
  },
  {
   "cell_type": "code",
   "execution_count": 6,
   "metadata": {},
   "outputs": [],
   "source": [
    "temp_users = dict({})\n",
    "count_votes_by_gender = users_df.groupby(['gender'])['username'].count()\n",
    "temp_users['total'] = count_votes_by_gender['fem']+count_votes_by_gender['masc']\n",
    "temp_users['female'] = count_votes_by_gender['fem']\n",
    "temp_users['male'] = count_votes_by_gender['masc']\n",
    "db_info['users'] = temp_users"
   ]
  },
  {
   "cell_type": "markdown",
   "metadata": {},
   "source": [
    "### Comments"
   ]
  },
  {
   "cell_type": "code",
   "execution_count": 7,
   "metadata": {},
   "outputs": [],
   "source": [
    "try:\n",
    "    labeled_comments = pd.read_csv('./data/labeled-comments.csv')\n",
    "except:\n",
    "    print('Retrieving from original database...')\n",
    "    labeled_comments = pd.read_sql_query('select * from results;',conn)\n",
    "    labeled_comments['label'] = labeled_comments['avg'].apply(lambda x: 1 if x > 0.5 else 0 if x < 0.5 else -1)\n",
    "    labeled_comments['char-qty'] = labeled_comments['content'].apply(lambda comment: len(comment))\n",
    "    labeled_comments['word-qty'] = labeled_comments['content'].apply(lambda comment: len(comment.lower().split(' ')))\n",
    "    labeled_comments.to_csv('./data/labeled-comments.csv', index=False)\n",
    "\n",
    "sexist_comments = labeled_comments[labeled_comments['avg'] > 0.5]\n",
    "not_sexist_comments = labeled_comments[labeled_comments['avg'] < 0.5]\n",
    "undefined_comments = labeled_comments[labeled_comments['avg'] == 0.5]"
   ]
  },
  {
   "cell_type": "code",
   "execution_count": 8,
   "metadata": {},
   "outputs": [
    {
     "data": {
      "text/html": [
       "<div>\n",
       "<style scoped>\n",
       "    .dataframe tbody tr th:only-of-type {\n",
       "        vertical-align: middle;\n",
       "    }\n",
       "\n",
       "    .dataframe tbody tr th {\n",
       "        vertical-align: top;\n",
       "    }\n",
       "\n",
       "    .dataframe thead th {\n",
       "        text-align: right;\n",
       "    }\n",
       "</style>\n",
       "<table border=\"1\" class=\"dataframe\">\n",
       "  <thead>\n",
       "    <tr style=\"text-align: right;\">\n",
       "      <th></th>\n",
       "      <th>comment_id</th>\n",
       "      <th>content</th>\n",
       "      <th>likes</th>\n",
       "      <th>dislikes</th>\n",
       "      <th>avg</th>\n",
       "      <th>label</th>\n",
       "      <th>char-qty</th>\n",
       "      <th>word-qty</th>\n",
       "    </tr>\n",
       "  </thead>\n",
       "  <tbody>\n",
       "    <tr>\n",
       "      <th>0</th>\n",
       "      <td>790</td>\n",
       "      <td>Perfeito!</td>\n",
       "      <td>2.0</td>\n",
       "      <td>2.0</td>\n",
       "      <td>0.333333</td>\n",
       "      <td>0</td>\n",
       "      <td>9</td>\n",
       "      <td>1</td>\n",
       "    </tr>\n",
       "    <tr>\n",
       "      <th>1</th>\n",
       "      <td>2850</td>\n",
       "      <td>Impressão sua, a diferença é que agora você vê...</td>\n",
       "      <td>4.0</td>\n",
       "      <td>0.0</td>\n",
       "      <td>0.500000</td>\n",
       "      <td>-1</td>\n",
       "      <td>270</td>\n",
       "      <td>44</td>\n",
       "    </tr>\n",
       "    <tr>\n",
       "      <th>2</th>\n",
       "      <td>1798</td>\n",
       "      <td>Rio de Janeiro é isso ai</td>\n",
       "      <td>8.0</td>\n",
       "      <td>7.0</td>\n",
       "      <td>0.000000</td>\n",
       "      <td>0</td>\n",
       "      <td>24</td>\n",
       "      <td>6</td>\n",
       "    </tr>\n",
       "    <tr>\n",
       "      <th>3</th>\n",
       "      <td>1489</td>\n",
       "      <td>MUITO MAIS LEGAL  RRSRSRRSRSRS</td>\n",
       "      <td>2.0</td>\n",
       "      <td>0.0</td>\n",
       "      <td>0.000000</td>\n",
       "      <td>0</td>\n",
       "      <td>30</td>\n",
       "      <td>5</td>\n",
       "    </tr>\n",
       "    <tr>\n",
       "      <th>4</th>\n",
       "      <td>1269</td>\n",
       "      <td>Falem por vocês. Eu não tô nem aí para a mulhe...</td>\n",
       "      <td>1.0</td>\n",
       "      <td>2.0</td>\n",
       "      <td>1.000000</td>\n",
       "      <td>1</td>\n",
       "      <td>96</td>\n",
       "      <td>19</td>\n",
       "    </tr>\n",
       "  </tbody>\n",
       "</table>\n",
       "</div>"
      ],
      "text/plain": [
       "   comment_id                                            content  likes  \\\n",
       "0         790                                          Perfeito!    2.0   \n",
       "1        2850  Impressão sua, a diferença é que agora você vê...    4.0   \n",
       "2        1798                           Rio de Janeiro é isso ai    8.0   \n",
       "3        1489                     MUITO MAIS LEGAL  RRSRSRRSRSRS    2.0   \n",
       "4        1269  Falem por vocês. Eu não tô nem aí para a mulhe...    1.0   \n",
       "\n",
       "   dislikes       avg  label  char-qty  word-qty  \n",
       "0       2.0  0.333333      0         9         1  \n",
       "1       0.0  0.500000     -1       270        44  \n",
       "2       7.0  0.000000      0        24         6  \n",
       "3       0.0  0.000000      0        30         5  \n",
       "4       2.0  1.000000      1        96        19  "
      ]
     },
     "execution_count": 8,
     "metadata": {},
     "output_type": "execute_result"
    }
   ],
   "source": [
    "labeled_comments.head(5)"
   ]
  },
  {
   "cell_type": "code",
   "execution_count": 9,
   "metadata": {},
   "outputs": [],
   "source": [
    "temp_comments = dict({})\n",
    "count_comments = labeled_comments.groupby(['label'])['comment_id'].count()\n",
    "temp_comments['total'] = labeled_comments.shape[0]\n",
    "temp_comments['sexist'] = {\n",
    "    'total_qty': count_comments[1],\n",
    "    'likes_qty': sexist_comments.sum()['likes'],\n",
    "    'dislikes_qty': sexist_comments.sum()['dislikes'],\n",
    "    'likes_qty_median': sexist_comments.median()['likes'],\n",
    "    'dislikes_qty_median': sexist_comments.median()['dislikes'],\n",
    "    'char_qty_median': sexist_comments.median()['char-qty'],\n",
    "    'word_qty_median': sexist_comments.median()['word-qty']\n",
    "}\n",
    "temp_comments['not_sexist'] = {\n",
    "    'total_qty': count_comments[0],\n",
    "    'likes_qty': not_sexist_comments.sum()['likes'],\n",
    "    'dislikes_qty': not_sexist_comments.sum()['dislikes'],\n",
    "    'likes_qty_median': not_sexist_comments.median()['likes'],\n",
    "    'dislikes_qty_median': not_sexist_comments.median()['dislikes'],\n",
    "    'char_qty_median': not_sexist_comments.median()['char-qty'],\n",
    "    'word_qty_median': not_sexist_comments.median()['word-qty']\n",
    "}\n",
    "temp_comments['undefined'] = {\n",
    "    'total_qty': count_comments[-1],\n",
    "    'likes_qty': undefined_comments.sum()['likes'],\n",
    "    'dislikes_qty': undefined_comments.sum()['dislikes'],\n",
    "    'likes_qty_median': undefined_comments.median()['likes'],\n",
    "    'dislikes_qty_median': undefined_comments.median()['dislikes'],\n",
    "    'char_qty_median': undefined_comments.median()['char-qty'],\n",
    "    'word_qty_median': undefined_comments.median()['word-qty']\n",
    "}\n",
    "db_info['comments'] = temp_comments"
   ]
  },
  {
   "cell_type": "code",
   "execution_count": 10,
   "metadata": {},
   "outputs": [],
   "source": [
    "sexist_vocabulary, sexist_frequency_array, sexist_word_list = get_vocabulary(sexist_comments)\n",
    "not_sexist_vocabulary, not_sexist_frequency_array, not_sexist_word_list = get_vocabulary(not_sexist_comments)\n",
    "undefined_vocabulary, undefined_frequency_array, undefined_word_list = get_vocabulary(undefined_comments)"
   ]
  },
  {
   "cell_type": "markdown",
   "metadata": {},
   "source": [
    "#### Shared words between sexist and not sexist comments"
   ]
  },
  {
   "cell_type": "code",
   "execution_count": 11,
   "metadata": {},
   "outputs": [],
   "source": [
    "list_sexist_sorted_terms = []\n",
    "for key, value in sorted(sexist_vocabulary.items(), key=lambda item: item[1]):\n",
    "    list_sexist_sorted_terms.append(key)\n",
    "list_sexist_sorted_terms.reverse()\n",
    "\n",
    "shared_words = []\n",
    "\n",
    "for word in list_sexist_sorted_terms:\n",
    "    if word in not_sexist_vocabulary.keys():\n",
    "        shared_words.append(word)\n",
    "\n",
    "word_freq = {\n",
    "    'word': [],\n",
    "    'sexist-freq': [],\n",
    "    'not-sexist-freq': [],\n",
    "    'undefined-freq' : [],\n",
    "    'diff' : []\n",
    "}\n",
    "\n",
    "for word in shared_words:\n",
    "    word_freq['word'].append(word)\n",
    "    if word in sexist_vocabulary.keys():\n",
    "      word_freq['sexist-freq'].append(sexist_vocabulary[word])\n",
    "    else:\n",
    "      word_freq['sexist-freq'].append(0)\n",
    "    if word in sexist_vocabulary.keys():\n",
    "      word_freq['not-sexist-freq'].append(not_sexist_vocabulary[word])\n",
    "    else:\n",
    "      word_freq['not-sexist-freq'].append(0)\n",
    "    if word in undefined_vocabulary.keys():\n",
    "        word_freq['undefined-freq'].append(undefined_vocabulary[word])\n",
    "    else:\n",
    "        word_freq['undefined-freq'].append(0)\n",
    "    word_freq['diff'] = sexist_vocabulary[word] - not_sexist_vocabulary[word]\n",
    "\n",
    "word_freq = pd.DataFrame(word_freq)\n",
    "\n",
    "# normalizind frequencies\n",
    "sum_sexist = sum(word_freq['sexist-freq'])\n",
    "word_freq['sexist-freq'] = word_freq['sexist-freq'].apply(lambda x: x/sum_sexist)\n",
    "sum_not_sexist = sum(word_freq['not-sexist-freq'])\n",
    "word_freq['not-sexist-freq'] = word_freq['not-sexist-freq'].apply(lambda x: x/sum_not_sexist)\n",
    "undefined_sexist = sum(word_freq['undefined-freq'])\n",
    "word_freq['undefined-freq'] = word_freq['undefined-freq'].apply(lambda x: x/undefined_sexist)\n",
    "word_freq['diff'] = word_freq['sexist-freq'] - word_freq['not-sexist-freq']\n",
    "\n",
    "sexist_words = word_freq[word_freq['diff'] > 0]\n",
    "not_sexist_words = word_freq[word_freq['diff'] < 0]"
   ]
  },
  {
   "cell_type": "code",
   "execution_count": 12,
   "metadata": {},
   "outputs": [
    {
     "data": {
      "text/html": [
       "<div>\n",
       "<style scoped>\n",
       "    .dataframe tbody tr th:only-of-type {\n",
       "        vertical-align: middle;\n",
       "    }\n",
       "\n",
       "    .dataframe tbody tr th {\n",
       "        vertical-align: top;\n",
       "    }\n",
       "\n",
       "    .dataframe thead th {\n",
       "        text-align: right;\n",
       "    }\n",
       "</style>\n",
       "<table border=\"1\" class=\"dataframe\">\n",
       "  <thead>\n",
       "    <tr style=\"text-align: right;\">\n",
       "      <th></th>\n",
       "      <th>word</th>\n",
       "      <th>sexist-freq</th>\n",
       "      <th>not-sexist-freq</th>\n",
       "      <th>undefined-freq</th>\n",
       "      <th>diff</th>\n",
       "      <th>perc_S</th>\n",
       "    </tr>\n",
       "  </thead>\n",
       "  <tbody>\n",
       "    <tr>\n",
       "      <th>1</th>\n",
       "      <td>de</td>\n",
       "      <td>0.043642</td>\n",
       "      <td>0.036990</td>\n",
       "      <td>0.041115</td>\n",
       "      <td>0.006652</td>\n",
       "      <td>0.043642</td>\n",
       "    </tr>\n",
       "    <tr>\n",
       "      <th>9</th>\n",
       "      <td>mulheres</td>\n",
       "      <td>0.010109</td>\n",
       "      <td>0.006892</td>\n",
       "      <td>0.011128</td>\n",
       "      <td>0.003217</td>\n",
       "      <td>0.010109</td>\n",
       "    </tr>\n",
       "    <tr>\n",
       "      <th>19</th>\n",
       "      <td>homens</td>\n",
       "      <td>0.006739</td>\n",
       "      <td>0.004079</td>\n",
       "      <td>0.008434</td>\n",
       "      <td>0.002660</td>\n",
       "      <td>0.006739</td>\n",
       "    </tr>\n",
       "    <tr>\n",
       "      <th>18</th>\n",
       "      <td>ela</td>\n",
       "      <td>0.007592</td>\n",
       "      <td>0.005063</td>\n",
       "      <td>0.005857</td>\n",
       "      <td>0.002528</td>\n",
       "      <td>0.007592</td>\n",
       "    </tr>\n",
       "    <tr>\n",
       "      <th>8</th>\n",
       "      <td>mulher</td>\n",
       "      <td>0.011246</td>\n",
       "      <td>0.008767</td>\n",
       "      <td>0.008902</td>\n",
       "      <td>0.002479</td>\n",
       "      <td>0.011246</td>\n",
       "    </tr>\n",
       "    <tr>\n",
       "      <th>47</th>\n",
       "      <td>feia</td>\n",
       "      <td>0.002639</td>\n",
       "      <td>0.000234</td>\n",
       "      <td>0.001523</td>\n",
       "      <td>0.002404</td>\n",
       "      <td>0.002639</td>\n",
       "    </tr>\n",
       "    <tr>\n",
       "      <th>48</th>\n",
       "      <td>assédio</td>\n",
       "      <td>0.002639</td>\n",
       "      <td>0.000891</td>\n",
       "      <td>0.001991</td>\n",
       "      <td>0.001748</td>\n",
       "      <td>0.002639</td>\n",
       "    </tr>\n",
       "    <tr>\n",
       "      <th>11</th>\n",
       "      <td>as</td>\n",
       "      <td>0.009459</td>\n",
       "      <td>0.007736</td>\n",
       "      <td>0.007848</td>\n",
       "      <td>0.001724</td>\n",
       "      <td>0.009459</td>\n",
       "    </tr>\n",
       "    <tr>\n",
       "      <th>16</th>\n",
       "      <td>na</td>\n",
       "      <td>0.008079</td>\n",
       "      <td>0.006376</td>\n",
       "      <td>0.008317</td>\n",
       "      <td>0.001703</td>\n",
       "      <td>0.008079</td>\n",
       "    </tr>\n",
       "    <tr>\n",
       "      <th>25</th>\n",
       "      <td>homem</td>\n",
       "      <td>0.005684</td>\n",
       "      <td>0.004079</td>\n",
       "      <td>0.004803</td>\n",
       "      <td>0.001605</td>\n",
       "      <td>0.005684</td>\n",
       "    </tr>\n",
       "    <tr>\n",
       "      <th>55</th>\n",
       "      <td>elas</td>\n",
       "      <td>0.002273</td>\n",
       "      <td>0.000703</td>\n",
       "      <td>0.001406</td>\n",
       "      <td>0.001570</td>\n",
       "      <td>0.002273</td>\n",
       "    </tr>\n",
       "    <tr>\n",
       "      <th>45</th>\n",
       "      <td>feminismo</td>\n",
       "      <td>0.002720</td>\n",
       "      <td>0.001172</td>\n",
       "      <td>0.002108</td>\n",
       "      <td>0.001548</td>\n",
       "      <td>0.002720</td>\n",
       "    </tr>\n",
       "    <tr>\n",
       "      <th>61</th>\n",
       "      <td>feministas</td>\n",
       "      <td>0.002030</td>\n",
       "      <td>0.000563</td>\n",
       "      <td>0.001171</td>\n",
       "      <td>0.001467</td>\n",
       "      <td>0.002030</td>\n",
       "    </tr>\n",
       "    <tr>\n",
       "      <th>6</th>\n",
       "      <td>uma</td>\n",
       "      <td>0.011733</td>\n",
       "      <td>0.010267</td>\n",
       "      <td>0.014408</td>\n",
       "      <td>0.001465</td>\n",
       "      <td>0.011733</td>\n",
       "    </tr>\n",
       "    <tr>\n",
       "      <th>67</th>\n",
       "      <td>feminista</td>\n",
       "      <td>0.001908</td>\n",
       "      <td>0.000563</td>\n",
       "      <td>0.000937</td>\n",
       "      <td>0.001345</td>\n",
       "      <td>0.001908</td>\n",
       "    </tr>\n",
       "    <tr>\n",
       "      <th>5</th>\n",
       "      <td>com</td>\n",
       "      <td>0.012057</td>\n",
       "      <td>0.010830</td>\n",
       "      <td>0.013588</td>\n",
       "      <td>0.001228</td>\n",
       "      <td>0.012057</td>\n",
       "    </tr>\n",
       "    <tr>\n",
       "      <th>65</th>\n",
       "      <td>querem</td>\n",
       "      <td>0.001949</td>\n",
       "      <td>0.000750</td>\n",
       "      <td>0.000937</td>\n",
       "      <td>0.001199</td>\n",
       "      <td>0.001949</td>\n",
       "    </tr>\n",
       "    <tr>\n",
       "      <th>30</th>\n",
       "      <td>essa</td>\n",
       "      <td>0.004100</td>\n",
       "      <td>0.002907</td>\n",
       "      <td>0.003866</td>\n",
       "      <td>0.001194</td>\n",
       "      <td>0.004100</td>\n",
       "    </tr>\n",
       "    <tr>\n",
       "      <th>26</th>\n",
       "      <td>só</td>\n",
       "      <td>0.005359</td>\n",
       "      <td>0.004266</td>\n",
       "      <td>0.004803</td>\n",
       "      <td>0.001093</td>\n",
       "      <td>0.005359</td>\n",
       "    </tr>\n",
       "    <tr>\n",
       "      <th>62</th>\n",
       "      <td>Essa</td>\n",
       "      <td>0.002030</td>\n",
       "      <td>0.000985</td>\n",
       "      <td>0.000937</td>\n",
       "      <td>0.001045</td>\n",
       "      <td>0.002030</td>\n",
       "    </tr>\n",
       "  </tbody>\n",
       "</table>\n",
       "</div>"
      ],
      "text/plain": [
       "          word  sexist-freq  not-sexist-freq  undefined-freq      diff  \\\n",
       "1           de     0.043642         0.036990        0.041115  0.006652   \n",
       "9     mulheres     0.010109         0.006892        0.011128  0.003217   \n",
       "19      homens     0.006739         0.004079        0.008434  0.002660   \n",
       "18         ela     0.007592         0.005063        0.005857  0.002528   \n",
       "8       mulher     0.011246         0.008767        0.008902  0.002479   \n",
       "47        feia     0.002639         0.000234        0.001523  0.002404   \n",
       "48     assédio     0.002639         0.000891        0.001991  0.001748   \n",
       "11          as     0.009459         0.007736        0.007848  0.001724   \n",
       "16          na     0.008079         0.006376        0.008317  0.001703   \n",
       "25       homem     0.005684         0.004079        0.004803  0.001605   \n",
       "55        elas     0.002273         0.000703        0.001406  0.001570   \n",
       "45   feminismo     0.002720         0.001172        0.002108  0.001548   \n",
       "61  feministas     0.002030         0.000563        0.001171  0.001467   \n",
       "6          uma     0.011733         0.010267        0.014408  0.001465   \n",
       "67   feminista     0.001908         0.000563        0.000937  0.001345   \n",
       "5          com     0.012057         0.010830        0.013588  0.001228   \n",
       "65      querem     0.001949         0.000750        0.000937  0.001199   \n",
       "30        essa     0.004100         0.002907        0.003866  0.001194   \n",
       "26          só     0.005359         0.004266        0.004803  0.001093   \n",
       "62        Essa     0.002030         0.000985        0.000937  0.001045   \n",
       "\n",
       "      perc_S  \n",
       "1   0.043642  \n",
       "9   0.010109  \n",
       "19  0.006739  \n",
       "18  0.007592  \n",
       "8   0.011246  \n",
       "47  0.002639  \n",
       "48  0.002639  \n",
       "11  0.009459  \n",
       "16  0.008079  \n",
       "25  0.005684  \n",
       "55  0.002273  \n",
       "45  0.002720  \n",
       "61  0.002030  \n",
       "6   0.011733  \n",
       "67  0.001908  \n",
       "5   0.012057  \n",
       "65  0.001949  \n",
       "30  0.004100  \n",
       "26  0.005359  \n",
       "62  0.002030  "
      ]
     },
     "execution_count": 12,
     "metadata": {},
     "output_type": "execute_result"
    }
   ],
   "source": [
    "relevant_sexist_words = list(sexist_words.sort_values(by=['diff'], ascending=False)['word'])\n",
    "\n",
    "# 20 most relevant words to sexist comments\n",
    "top20_sexist_words = sexist_words.sort_values(by ='diff',ascending=False ).head(20)\n",
    "top20_sexist_words['perc_S'] = top20_sexist_words['sexist-freq'].apply(lambda x : x)\n",
    "top20_sexist_words"
   ]
  },
  {
   "cell_type": "markdown",
   "metadata": {},
   "source": [
    "### Histograms"
   ]
  },
  {
   "cell_type": "code",
   "execution_count": 13,
   "metadata": {},
   "outputs": [
    {
     "data": {
      "text/html": [
       "<div>\n",
       "<style scoped>\n",
       "    .dataframe tbody tr th:only-of-type {\n",
       "        vertical-align: middle;\n",
       "    }\n",
       "\n",
       "    .dataframe tbody tr th {\n",
       "        vertical-align: top;\n",
       "    }\n",
       "\n",
       "    .dataframe thead th {\n",
       "        text-align: right;\n",
       "    }\n",
       "</style>\n",
       "<table border=\"1\" class=\"dataframe\">\n",
       "  <thead>\n",
       "    <tr style=\"text-align: right;\">\n",
       "      <th></th>\n",
       "      <th>word</th>\n",
       "      <th>sexist-freq</th>\n",
       "      <th>not-sexist-freq</th>\n",
       "      <th>undefined-freq</th>\n",
       "      <th>diff</th>\n",
       "    </tr>\n",
       "  </thead>\n",
       "  <tbody>\n",
       "    <tr>\n",
       "      <th>0</th>\n",
       "      <td>que</td>\n",
       "      <td>0.044495</td>\n",
       "      <td>0.046601</td>\n",
       "      <td>0.056109</td>\n",
       "      <td>-0.002106</td>\n",
       "    </tr>\n",
       "    <tr>\n",
       "      <th>1</th>\n",
       "      <td>de</td>\n",
       "      <td>0.043642</td>\n",
       "      <td>0.036990</td>\n",
       "      <td>0.041115</td>\n",
       "      <td>0.006652</td>\n",
       "    </tr>\n",
       "    <tr>\n",
       "      <th>2</th>\n",
       "      <td>não</td>\n",
       "      <td>0.021923</td>\n",
       "      <td>0.024332</td>\n",
       "      <td>0.029167</td>\n",
       "      <td>-0.002409</td>\n",
       "    </tr>\n",
       "    <tr>\n",
       "      <th>3</th>\n",
       "      <td>se</td>\n",
       "      <td>0.014981</td>\n",
       "      <td>0.014627</td>\n",
       "      <td>0.018742</td>\n",
       "      <td>0.000353</td>\n",
       "    </tr>\n",
       "    <tr>\n",
       "      <th>4</th>\n",
       "      <td>um</td>\n",
       "      <td>0.012626</td>\n",
       "      <td>0.012611</td>\n",
       "      <td>0.011597</td>\n",
       "      <td>0.000015</td>\n",
       "    </tr>\n",
       "    <tr>\n",
       "      <th>...</th>\n",
       "      <td>...</td>\n",
       "      <td>...</td>\n",
       "      <td>...</td>\n",
       "      <td>...</td>\n",
       "      <td>...</td>\n",
       "    </tr>\n",
       "    <tr>\n",
       "      <th>3002</th>\n",
       "      <td>18</td>\n",
       "      <td>0.000041</td>\n",
       "      <td>0.000094</td>\n",
       "      <td>0.000234</td>\n",
       "      <td>-0.000053</td>\n",
       "    </tr>\n",
       "    <tr>\n",
       "      <th>3003</th>\n",
       "      <td>16</td>\n",
       "      <td>0.000041</td>\n",
       "      <td>0.000141</td>\n",
       "      <td>0.000117</td>\n",
       "      <td>-0.000100</td>\n",
       "    </tr>\n",
       "    <tr>\n",
       "      <th>3004</th>\n",
       "      <td>15</td>\n",
       "      <td>0.000041</td>\n",
       "      <td>0.000094</td>\n",
       "      <td>0.000351</td>\n",
       "      <td>-0.000053</td>\n",
       "    </tr>\n",
       "    <tr>\n",
       "      <th>3005</th>\n",
       "      <td>11</td>\n",
       "      <td>0.000041</td>\n",
       "      <td>0.000047</td>\n",
       "      <td>0.000117</td>\n",
       "      <td>-0.000006</td>\n",
       "    </tr>\n",
       "    <tr>\n",
       "      <th>3006</th>\n",
       "      <td>1000</td>\n",
       "      <td>0.000041</td>\n",
       "      <td>0.000188</td>\n",
       "      <td>0.000000</td>\n",
       "      <td>-0.000147</td>\n",
       "    </tr>\n",
       "  </tbody>\n",
       "</table>\n",
       "<p>3007 rows × 5 columns</p>\n",
       "</div>"
      ],
      "text/plain": [
       "      word  sexist-freq  not-sexist-freq  undefined-freq      diff\n",
       "0      que     0.044495         0.046601        0.056109 -0.002106\n",
       "1       de     0.043642         0.036990        0.041115  0.006652\n",
       "2      não     0.021923         0.024332        0.029167 -0.002409\n",
       "3       se     0.014981         0.014627        0.018742  0.000353\n",
       "4       um     0.012626         0.012611        0.011597  0.000015\n",
       "...    ...          ...              ...             ...       ...\n",
       "3002    18     0.000041         0.000094        0.000234 -0.000053\n",
       "3003    16     0.000041         0.000141        0.000117 -0.000100\n",
       "3004    15     0.000041         0.000094        0.000351 -0.000053\n",
       "3005    11     0.000041         0.000047        0.000117 -0.000006\n",
       "3006  1000     0.000041         0.000188        0.000000 -0.000147\n",
       "\n",
       "[3007 rows x 5 columns]"
      ]
     },
     "execution_count": 13,
     "metadata": {},
     "output_type": "execute_result"
    }
   ],
   "source": [
    "word_freq"
   ]
  },
  {
   "cell_type": "code",
   "execution_count": 14,
   "metadata": {},
   "outputs": [
    {
     "name": "stderr",
     "output_type": "stream",
     "text": [
      "D:\\Arquivos e Programas\\Anaconda\\lib\\site-packages\\scipy\\spatial\\distance.py:1289: RuntimeWarning: invalid value encountered in true_divide\n",
      "  q = q / np.sum(q, axis=0)\n"
     ]
    }
   ],
   "source": [
    "hiss = word_freq[word_freq['diff']>0].sort_values(by=['diff'], ascending=False)\n",
    "hisn = word_freq[word_freq['diff']<0].sort_values(by=['diff'], ascending=True)\n",
    "HS = list(hiss['sexist-freq'])\n",
    "HN = list(hisn['not-sexist-freq'])\n",
    "\n",
    "remove_special_char = lambda word: re.sub(r'[!.,\\-\";:~><^%$#@&*\\(\\)-+=_\\'\\?]','', word)\n",
    "words = list(word_freq['word'])\n",
    "\n",
    "duno_comments = [c for c in list(undefined_comments['content'])]\n",
    "duno_matriz = []\n",
    "words = list(hiss['word'])\n",
    "for comment in duno_comments:\n",
    "    hist = []\n",
    "    for word in words:\n",
    "        f = comment.split(' ').count(word)\n",
    "        hist.append(f)\n",
    "#     hist = [x/sum(hist) if sum(hist) > 0 else 0 for x in hist]\n",
    "    duno_matriz.append(hist)\n",
    "from scipy.spatial import distance\n",
    "JSD_S = []\n",
    "for line in duno_matriz:\n",
    "    dist = distance.jensenshannon(HS, line)\n",
    "    JSD_S.append(dist)\n",
    "\n",
    "duno_matriz = []\n",
    "words = list(hisn['word'])\n",
    "for comment in duno_comments:\n",
    "    hist = []\n",
    "    for word in words:\n",
    "        f = comment.split(' ').count(word)\n",
    "        hist.append(f)\n",
    "#     hist = [x/sum(hist) if sum(hist) > 0 else 0 for x in hist]\n",
    "    duno_matriz.append(hist)\n",
    "from scipy.spatial import distance\n",
    "JSD_N = []\n",
    "for line in duno_matriz:\n",
    "    dist = distance.jensenshannon(HN, line)\n",
    "    JSD_N.append(dist)"
   ]
  },
  {
   "cell_type": "code",
   "execution_count": null,
   "metadata": {},
   "outputs": [],
   "source": []
  },
  {
   "cell_type": "code",
   "execution_count": 211,
   "metadata": {},
   "outputs": [],
   "source": [
    "a= pd.DataFrame(JSD_S)\n",
    "a = a.fillna(0)\n",
    "group_values_S = {\n",
    "    '<0.6': len(a[a[0]<0.6]),\n",
    "    '0.6 < x < 0.7': len(a[(a[0]>=0.6) & (a[0]<0.7)]),\n",
    "    '0.7 < x < 0.8': len(a[(a[0]>=0.7) & (a[0]<0.8)]),\n",
    "    '0.8 < x < 0.9': len(a[(a[0]>=0.8) & (a[0]<0.9)]),\n",
    "    '0.9 < x < 1': len(a[(a[0]>=0.9) & (a[0]<1)]),\n",
    "    '> 1': len(a[(a[0]>=1)])\n",
    "}"
   ]
  },
  {
   "cell_type": "code",
   "execution_count": 212,
   "metadata": {},
   "outputs": [],
   "source": [
    "b = pd.DataFrame(JSD_N)\n",
    "b = b.fillna(0)\n",
    "group_values_NS = {\n",
    "    '<0.6': len(b[b[0]<0.6]),\n",
    "    '0.6 < x < 0.7': len(b[(b[0]>=0.6) & (b[0]<0.7)]),\n",
    "    '0.7 < x < 0.8': len(b[(b[0]>=0.7) & (b[0]<0.8)]),\n",
    "    '0.8 < x < 0.9': len(b[(b[0]>=0.8) & (b[0]<0.9)]),\n",
    "    '0.9 < x < 1': len(b[(b[0]>=0.9) & (b[0]<1)]),\n",
    "    '> 1': len(b[(b[0]>=1)])\n",
    "}"
   ]
  },
  {
   "cell_type": "code",
   "execution_count": 230,
   "metadata": {},
   "outputs": [],
   "source": [
    "data = pd.DataFrame({ 'Comentários não sexistas': JSD_N, 'Comentários sexistas': JSD_S})"
   ]
  },
  {
   "cell_type": "code",
   "execution_count": 231,
   "metadata": {},
   "outputs": [
    {
     "data": {
      "text/plain": [
       "Text(0.5, 0.98, 'Distância de Jensen Chanel dos comentário sem rótulo')"
      ]
     },
     "execution_count": 231,
     "metadata": {},
     "output_type": "execute_result"
    },
    {
     "data": {
      "image/png": "[encoded data removed]",
      "text/plain": [
       "<Figure size 1440x576 with 2 Axes>"
      ]
     },
     "metadata": {
      "needs_background": "light"
     },
     "output_type": "display_data"
    }
   ],
   "source": [
    "axes = data.hist(sharey=True,\n",
    "                 sharex=True,\n",
    "                 bins=25,\n",
    "                 grid=True,\n",
    "                 figsize=(20,8),\n",
    "                 color=char_colors[1],\n",
    "                 zorder=2,\n",
    "                 ylabelsize=14,\n",
    "                 xlabelsize=14,\n",
    "                 rwidth=0.9)\n",
    "plt.suptitle(\"Distância de Jensen Chanel dos comentário sem rótulo\", fontsize=14)\n",
    "plt.savefig('./images/.png',\n",
    "         orientation='landscape',\n",
    "         format='png',\n",
    "         bbox_extra_artists=(lgd,),\n",
    "         bbox_inches='tight')"
   ]
  },
  {
   "cell_type": "markdown",
   "metadata": {},
   "source": [
    "## Votes"
   ]
  },
  {
   "cell_type": "code",
   "execution_count": 17,
   "metadata": {},
   "outputs": [],
   "source": [
    "try:\n",
    "    votes_per_user = pd.read_csv('data/votes-per-user.csv')\n",
    "except:\n",
    "    print('Retrieving from original database...')\n",
    "    votes_per_user = pd.read_sql_query('''\n",
    "    with q as (\n",
    "        select v.vote_id,\n",
    "           c.comment_id,\n",
    "           v.user_id,\n",
    "           v.gender,\n",
    "           date_part('year',age(v.birth)) as age,\n",
    "           c.content,\n",
    "           v.vote,\n",
    "           v.avg as label\n",
    "    from comments c\n",
    "             join (select v1.comment_id,\n",
    "                          r.avg,\n",
    "                          v1.vote_id,\n",
    "                          v1.user_id,\n",
    "                          v1.vote,\n",
    "                          v1.gender,\n",
    "                          v1.birth\n",
    "                   from (\n",
    "                        select v2.user_id,v2.vote,v2.vote_id, u.gender,v2.comment_id, u.birth\n",
    "                        from votes v2 join users u on v2.user_id = u.username\n",
    "                       ) v1 join results r on v1.comment_id = r.comment_id) v on c.comment_id = v.comment_id\n",
    "    )\n",
    "    select * from q;\n",
    "    ''', conn)\n",
    "    votes_per_user.to_csv('data/votes-per-user.csv', index=False)"
   ]
  },
  {
   "cell_type": "code",
   "execution_count": 18,
   "metadata": {},
   "outputs": [
    {
     "data": {
      "text/html": [
       "<div>\n",
       "<style scoped>\n",
       "    .dataframe tbody tr th:only-of-type {\n",
       "        vertical-align: middle;\n",
       "    }\n",
       "\n",
       "    .dataframe tbody tr th {\n",
       "        vertical-align: top;\n",
       "    }\n",
       "\n",
       "    .dataframe thead th {\n",
       "        text-align: right;\n",
       "    }\n",
       "</style>\n",
       "<table border=\"1\" class=\"dataframe\">\n",
       "  <thead>\n",
       "    <tr style=\"text-align: right;\">\n",
       "      <th></th>\n",
       "      <th>vote_id</th>\n",
       "      <th>comment_id</th>\n",
       "      <th>user_id</th>\n",
       "      <th>gender</th>\n",
       "      <th>age</th>\n",
       "      <th>content</th>\n",
       "      <th>vote</th>\n",
       "      <th>label</th>\n",
       "    </tr>\n",
       "  </thead>\n",
       "  <tbody>\n",
       "    <tr>\n",
       "      <th>0</th>\n",
       "      <td>5972</td>\n",
       "      <td>790</td>\n",
       "      <td>mluisapbraga@gmail.com</td>\n",
       "      <td>fem</td>\n",
       "      <td>22.0</td>\n",
       "      <td>Perfeito!</td>\n",
       "      <td>0</td>\n",
       "      <td>0.333333</td>\n",
       "    </tr>\n",
       "    <tr>\n",
       "      <th>1</th>\n",
       "      <td>1652</td>\n",
       "      <td>790</td>\n",
       "      <td>yv.sv45@gmail.com</td>\n",
       "      <td>masc</td>\n",
       "      <td>22.0</td>\n",
       "      <td>Perfeito!</td>\n",
       "      <td>0</td>\n",
       "      <td>0.333333</td>\n",
       "    </tr>\n",
       "    <tr>\n",
       "      <th>2</th>\n",
       "      <td>754</td>\n",
       "      <td>790</td>\n",
       "      <td>bragadeoliveiraaa@gmail.com</td>\n",
       "      <td>fem</td>\n",
       "      <td>20.0</td>\n",
       "      <td>Perfeito!</td>\n",
       "      <td>1</td>\n",
       "      <td>0.333333</td>\n",
       "    </tr>\n",
       "    <tr>\n",
       "      <th>3</th>\n",
       "      <td>4298</td>\n",
       "      <td>2850</td>\n",
       "      <td>roberto.sousa@fpf.br</td>\n",
       "      <td>masc</td>\n",
       "      <td>31.0</td>\n",
       "      <td>Impressão sua, a diferença é que agora você vê...</td>\n",
       "      <td>0</td>\n",
       "      <td>0.500000</td>\n",
       "    </tr>\n",
       "    <tr>\n",
       "      <th>4</th>\n",
       "      <td>1086</td>\n",
       "      <td>2850</td>\n",
       "      <td>alexandrehsilva96@gmail.com</td>\n",
       "      <td>masc</td>\n",
       "      <td>23.0</td>\n",
       "      <td>Impressão sua, a diferença é que agora você vê...</td>\n",
       "      <td>1</td>\n",
       "      <td>0.500000</td>\n",
       "    </tr>\n",
       "  </tbody>\n",
       "</table>\n",
       "</div>"
      ],
      "text/plain": [
       "   vote_id  comment_id                      user_id gender   age  \\\n",
       "0     5972         790       mluisapbraga@gmail.com    fem  22.0   \n",
       "1     1652         790            yv.sv45@gmail.com   masc  22.0   \n",
       "2      754         790  bragadeoliveiraaa@gmail.com    fem  20.0   \n",
       "3     4298        2850         roberto.sousa@fpf.br   masc  31.0   \n",
       "4     1086        2850  alexandrehsilva96@gmail.com   masc  23.0   \n",
       "\n",
       "                                             content  vote     label  \n",
       "0                                          Perfeito!     0  0.333333  \n",
       "1                                          Perfeito!     0  0.333333  \n",
       "2                                          Perfeito!     1  0.333333  \n",
       "3  Impressão sua, a diferença é que agora você vê...     0  0.500000  \n",
       "4  Impressão sua, a diferença é que agora você vê...     1  0.500000  "
      ]
     },
     "execution_count": 18,
     "metadata": {},
     "output_type": "execute_result"
    }
   ],
   "source": [
    "votes_per_user.head(5)"
   ]
  },
  {
   "cell_type": "markdown",
   "metadata": {},
   "source": [
    "**Confusion Matrix to Manual Classifications**"
   ]
  },
  {
   "cell_type": "code",
   "execution_count": null,
   "metadata": {},
   "outputs": [],
   "source": [
    "from sklearn.metrics import confusion_matrix\n",
    "\n",
    "def matriz_confusao(gender,df):\n",
    "  df = votes_per_user[(votes_per_user['gender']==gender) & (votes_per_user['label']!=0.5)]\n",
    "  y_true = [float(x) for x in list(df['label'].apply(define_class))]\n",
    "  y_pred = [float(x) for x in list(df['vote'].apply(define_class))]\n",
    "  return pd.DataFrame(confusion_matrix(y_true, y_pred, labels=[1,0]), columns=['Sr','Nr'], index=['Sv','Nv'])\n",
    "\n",
    "female_confussion_matrix = matriz_confusao('fem',votes_per_user)\n",
    "male_confussion_matrix = matriz_confusao('masc',votes_per_user)"
   ]
  },
  {
   "cell_type": "code",
   "execution_count": 36,
   "metadata": {},
   "outputs": [
    {
     "data": {
      "text/html": [
       "<div>\n",
       "<style scoped>\n",
       "    .dataframe tbody tr th:only-of-type {\n",
       "        vertical-align: middle;\n",
       "    }\n",
       "\n",
       "    .dataframe tbody tr th {\n",
       "        vertical-align: top;\n",
       "    }\n",
       "\n",
       "    .dataframe thead th {\n",
       "        text-align: right;\n",
       "    }\n",
       "</style>\n",
       "<table border=\"1\" class=\"dataframe\">\n",
       "  <thead>\n",
       "    <tr style=\"text-align: right;\">\n",
       "      <th></th>\n",
       "      <th>Sr</th>\n",
       "      <th>Nr</th>\n",
       "    </tr>\n",
       "  </thead>\n",
       "  <tbody>\n",
       "    <tr>\n",
       "      <th>Sv</th>\n",
       "      <td>2039</td>\n",
       "      <td>182</td>\n",
       "    </tr>\n",
       "    <tr>\n",
       "      <th>Nv</th>\n",
       "      <td>168</td>\n",
       "      <td>1702</td>\n",
       "    </tr>\n",
       "  </tbody>\n",
       "</table>\n",
       "</div>"
      ],
      "text/plain": [
       "      Sr    Nr\n",
       "Sv  2039   182\n",
       "Nv   168  1702"
      ]
     },
     "execution_count": 36,
     "metadata": {},
     "output_type": "execute_result"
    }
   ],
   "source": [
    "female_confussion_matrix"
   ]
  },
  {
   "cell_type": "code",
   "execution_count": 37,
   "metadata": {},
   "outputs": [
    {
     "data": {
      "text/html": [
       "<div>\n",
       "<style scoped>\n",
       "    .dataframe tbody tr th:only-of-type {\n",
       "        vertical-align: middle;\n",
       "    }\n",
       "\n",
       "    .dataframe tbody tr th {\n",
       "        vertical-align: top;\n",
       "    }\n",
       "\n",
       "    .dataframe thead th {\n",
       "        text-align: right;\n",
       "    }\n",
       "</style>\n",
       "<table border=\"1\" class=\"dataframe\">\n",
       "  <thead>\n",
       "    <tr style=\"text-align: right;\">\n",
       "      <th></th>\n",
       "      <th>Sr</th>\n",
       "      <th>Nr</th>\n",
       "    </tr>\n",
       "  </thead>\n",
       "  <tbody>\n",
       "    <tr>\n",
       "      <th>Sv</th>\n",
       "      <td>911</td>\n",
       "      <td>102</td>\n",
       "    </tr>\n",
       "    <tr>\n",
       "      <th>Nv</th>\n",
       "      <td>118</td>\n",
       "      <td>868</td>\n",
       "    </tr>\n",
       "  </tbody>\n",
       "</table>\n",
       "</div>"
      ],
      "text/plain": [
       "     Sr   Nr\n",
       "Sv  911  102\n",
       "Nv  118  868"
      ]
     },
     "execution_count": 37,
     "metadata": {},
     "output_type": "execute_result"
    }
   ],
   "source": [
    "male_confussion_matrix"
   ]
  },
  {
   "cell_type": "code",
   "execution_count": 39,
   "metadata": {},
   "outputs": [],
   "source": [
    "def precision_recal_f1(matrix):\n",
    "  tp = matrix['Sr']['Sv']\n",
    "  tp_fn = tp + matrix['Sr']['Nv']\n",
    "  tp_fp = tp + matrix['Nr']['Sv']\n",
    "  precision = tp/tp_fp\n",
    "  recall = tp/tp_fn\n",
    "  f1 = 2 * (precision * recall) / (precision + recall)\n",
    "  return precision, recall, f1\n",
    "\n",
    "precision_fem, recall_fem, f1_fem = precision_recal_f1(female_confussion_matrix)\n",
    "precision_male, recall_male, f1_male = precision_recal_f1(male_confussion_matrix)"
   ]
  },
  {
   "cell_type": "code",
   "execution_count": 40,
   "metadata": {},
   "outputs": [
    {
     "name": "stdout",
     "output_type": "stream",
     "text": [
      "Female metrics: (0.9180549302116164, 0.923878568192116, 0.9209575429087623)\n",
      "Male metrics: (0.8993089832181639, 0.8853255587949466, 0.8922624877571009)\n"
     ]
    }
   ],
   "source": [
    "print(f'Female metrics: {precision_fem, recall_fem, f1_fem}')\n",
    "print(f'Male metrics: {precision_male, recall_male, f1_male}')"
   ]
  },
  {
   "cell_type": "markdown",
   "metadata": {},
   "source": [
    "**Calculating vote info by gender/age**"
   ]
  },
  {
   "cell_type": "code",
   "execution_count": 19,
   "metadata": {},
   "outputs": [],
   "source": [
    "age_list = list(votes_per_user.age.unique())\n",
    "age_list.sort()\n",
    "\n",
    "qtd_votes_per_age = dict({})\n",
    "\n",
    "qtd_female_votes_per_age = dict({})\n",
    "qtd_sexist_female_votes_per_age = dict({})\n",
    "qtd_not_sexist_female_votes_per_age = dict({})\n",
    "\n",
    "qtd_correct_sexist_female_votes_per_age = dict({})\n",
    "qtd_correct_not_sexist_female_votes_per_age = dict({})\n",
    "qtd_incorrect_sexist_female_votes_per_age = dict({})\n",
    "qtd_incorrect_not_sexist_female_votes_per_age = dict({})\n",
    "\n",
    "qtd_male_votes_per_age = dict({})\n",
    "qtd_sexist_male_votes_per_age = dict({})\n",
    "qtd_not_sexist_male_votes_per_age = dict({})\n",
    "\n",
    "qtd_correct_sexist_male_votes_per_age = dict({})\n",
    "qtd_correct_not_sexist_male_votes_per_age = dict({})\n",
    "qtd_incorrect_sexist_male_votes_per_age = dict({})\n",
    "qtd_incorrect_not_sexist_male_votes_per_age = dict({})\n",
    "\n",
    "for age in age_list:\n",
    "  qtd_votes_per_age[age] = votes_per_user[votes_per_user['age']==age].shape[0]\n",
    "for age in age_list:\n",
    "  qtd_female_votes_per_age[age] = votes_per_user[(votes_per_user['age']==age) & (votes_per_user['gender']=='fem')].shape[0]\n",
    "for age in age_list:\n",
    "  qtd_male_votes_per_age[age] = votes_per_user[(votes_per_user['age']==age) & (votes_per_user['gender']=='masc')].shape[0]\n",
    "\n",
    "for age in age_list:\n",
    "  qtd_sexist_female_votes_per_age[age] = votes_per_user[(votes_per_user['age']==age) & (votes_per_user['gender']=='fem') & (votes_per_user['vote']==1)].shape[0]\n",
    "for age in age_list:\n",
    "  qtd_not_sexist_female_votes_per_age[age] = votes_per_user[(votes_per_user['age']==age) & (votes_per_user['gender']=='fem') & (votes_per_user['vote']==0)].shape[0]\n",
    "\n",
    "for age in age_list:\n",
    "  qtd_sexist_male_votes_per_age[age] = votes_per_user[(votes_per_user['age']==age) & (votes_per_user['gender']=='masc') & (votes_per_user['vote']==1)].shape[0]\n",
    "for age in age_list:\n",
    "  qtd_not_sexist_male_votes_per_age[age] = votes_per_user[(votes_per_user['age']==age) & (votes_per_user['gender']=='masc') & (votes_per_user['vote']==0)].shape[0]\n",
    "\n",
    "for age in age_list:\n",
    "  qtd_correct_sexist_female_votes_per_age[age] = votes_per_user[(votes_per_user['age']==age) & (votes_per_user['gender']=='fem') & (votes_per_user['vote']==1) & (votes_per_user['label']>0.5)].shape[0]\n",
    "for age in age_list:\n",
    "  qtd_correct_not_sexist_female_votes_per_age[age] = votes_per_user[(votes_per_user['age']==age) & (votes_per_user['gender']=='fem') & (votes_per_user['vote']==0) & (votes_per_user['label']<0.5)].shape[0]\n",
    "for age in age_list:\n",
    "  qtd_incorrect_sexist_female_votes_per_age[age] = votes_per_user[(votes_per_user['age']==age) & (votes_per_user['gender']=='fem') & (votes_per_user['vote']==0) & (votes_per_user['label']>0.5)].shape[0]\n",
    "for age in age_list:\n",
    "  qtd_incorrect_not_sexist_female_votes_per_age[age] = votes_per_user[(votes_per_user['age']==age) & (votes_per_user['gender']=='fem') & (votes_per_user['vote']==1) & (votes_per_user['label']<0.5)].shape[0]\n",
    "\n",
    "for age in age_list:\n",
    "  qtd_correct_sexist_male_votes_per_age[age] = votes_per_user[(votes_per_user['age']==age) & (votes_per_user['gender']=='masc') & (votes_per_user['vote']==1) & (votes_per_user['label']>0.5)].shape[0]\n",
    "for age in age_list:\n",
    "  qtd_correct_not_sexist_male_votes_per_age[age] = votes_per_user[(votes_per_user['age']==age) & (votes_per_user['gender']=='masc') & (votes_per_user['vote']==0) & (votes_per_user['label']<0.5)].shape[0]\n",
    "for age in age_list:\n",
    "  qtd_incorrect_sexist_male_votes_per_age[age] = votes_per_user[(votes_per_user['age']==age) & (votes_per_user['gender']=='masc') & (votes_per_user['vote']==0) & (votes_per_user['label']>0.5)].shape[0]\n",
    "for age in age_list:\n",
    "  qtd_incorrect_not_sexist_male_votes_per_age[age] = votes_per_user[(votes_per_user['age']==age) & (votes_per_user['gender']=='masc') & (votes_per_user['vote']==1) & (votes_per_user['label']<0.5)].shape[0]"
   ]
  },
  {
   "cell_type": "markdown",
   "metadata": {},
   "source": [
    "## Charts"
   ]
  },
  {
   "cell_type": "code",
   "execution_count": 81,
   "metadata": {},
   "outputs": [],
   "source": [
    "def plot_pizza(title, labels, values, subplot):\n",
    "  fig, ax = plt.subplots(figsize=(6, 6), subplot_kw=dict(aspect=\"equal\"))\n",
    "  recipe = labels\n",
    "  data = values\n",
    "  def func(pct, allvals):\n",
    "      absolute = int(pct/100.*np.sum(allvals))\n",
    "      return \"{:.1f}%\\n({:d})\".format(pct, absolute)\n",
    "\n",
    "  wedges, texts, autotexts = ax.pie(data, autopct=lambda pct: func(pct, data),\n",
    "                                    textprops=dict(color=\"w\"), colors=char_colors)\n",
    "\n",
    "  lgd = ax.legend(wedges, recipe,\n",
    "            title=\"Classes\",\n",
    "            loc=\"center left\",\n",
    "            bbox_to_anchor=(1, 0, 0.5, 1))\n",
    "  plt.tight_layout()\n",
    "  plt.title(title,**csfont)\n",
    "  plt.setp(autotexts, size=15, weight=\"bold\")\n",
    "  plt.savefig(f'./images/{stringcase.snakecase(title)}.png',\n",
    "             orientation='landscape',\n",
    "             format='png',\n",
    "             bbox_extra_artists=(lgd,),\n",
    "             bbox_inches='tight')"
   ]
  },
  {
   "cell_type": "code",
   "execution_count": 82,
   "metadata": {},
   "outputs": [
    {
     "data": {
      "image/png": "[encoded data removed]",
      "text/plain": [
       "<Figure size 432x432 with 1 Axes>"
      ]
     },
     "metadata": {},
     "output_type": "display_data"
    },
    {
     "data": {
      "image/png": "[encoded data removed]",
      "text/plain": [
       "<Figure size 432x432 with 1 Axes>"
      ]
     },
     "metadata": {},
     "output_type": "display_data"
    },
    {
     "data": {
      "image/png": "[encoded data removed]",
      "text/plain": [
       "<Figure size 432x432 with 1 Axes>"
      ]
     },
     "metadata": {},
     "output_type": "display_data"
    },
    {
     "data": {
      "image/png": "[encoded data removed]",
      "text/plain": [
       "<Figure size 432x432 with 1 Axes>"
      ]
     },
     "metadata": {},
     "output_type": "display_data"
    },
    {
     "data": {
      "image/png": "[encoded data removed]",
      "text/plain": [
       "<Figure size 432x432 with 1 Axes>"
      ]
     },
     "metadata": {},
     "output_type": "display_data"
    },
    {
     "data": {
      "image/png": "[encoded data removed]",
      "text/plain": [
       "<Figure size 432x432 with 1 Axes>"
      ]
     },
     "metadata": {},
     "output_type": "display_data"
    }
   ],
   "source": [
    "plot_pizza('Comentários sexistas (Soma)',\n",
    "           ['Likes','Dislikes'],\n",
    "           [temp_comments.get('sexist').get('likes_qty'),\n",
    "            temp_comments.get('sexist').get('dislikes_qty')],\n",
    "           subplot=(1,1,1)\n",
    "          )\n",
    "plot_pizza('Comentários não sexistas (Soma)',\n",
    "           ['Likes','Dislikes'],\n",
    "           [temp_comments.get('not_sexist').get('likes_qty'),\n",
    "            temp_comments.get('not_sexist').get('dislikes_qty')],\n",
    "           subplot=(1,2,2)\n",
    "          )\n",
    "plot_pizza('Comentários não rotulados (Soma)',\n",
    "           ['Likes','Dislikes'],\n",
    "           [temp_comments.get('undefined').get('likes_qty'),\n",
    "            temp_comments.get('undefined').get('dislikes_qty')],\n",
    "           subplot=(1,2,2)\n",
    "          )\n",
    "plot_pizza('Comentários sexistas (Mediana)',\n",
    "           ['Likes','Dislikes'],\n",
    "           [temp_comments.get('sexist').get('likes_qty_median'),\n",
    "            temp_comments.get('sexist').get('dislikes_qty_median')],\n",
    "            subplot=(1,1,1)\n",
    "          )\n",
    "plot_pizza('Comentários não sexistas (Mediana)',\n",
    "           ['Likes','Dislikes'],\n",
    "           [temp_comments.get('not_sexist').get('likes_qty_median'),\n",
    "            temp_comments.get('not_sexist').get('dislikes_qty_median')],\n",
    "           subplot=(1,2,2)\n",
    "\n",
    "          )\n",
    "plot_pizza('Comentários não rotulados (Mediana)',\n",
    "           ['Likes','Dislikes'],\n",
    "           [temp_comments.get('undefined').get('likes_qty_median'),\n",
    "            temp_comments.get('undefined').get('dislikes_qty_median')],\n",
    "            subplot=(1,2,2)\n",
    "          )"
   ]
  },
  {
   "cell_type": "code",
   "execution_count": 100,
   "metadata": {},
   "outputs": [],
   "source": [
    "def doublebar_plot(df_1, df_2, ages, title):\n",
    "  X = np.array(ages)\n",
    "  Y1 = np.array(list((df_1).values()))\n",
    "  Y2 = np.array(list((df_2).values()))\n",
    "\n",
    "  fig, ax = plt.subplots(figsize=(20,8))\n",
    "\n",
    "  ax.axhline(0, color='black', lw=1)\n",
    "\n",
    "  ax.bar(X, +Y1, facecolor=char_colors[0], edgecolor='white', label='Homens', width=1)\n",
    "  ax.bar(X, -Y2, facecolor=char_colors[1], edgecolor='white', label='Mulheres', width=1)\n",
    "\n",
    "  lgd = ax.legend(fontsize = 13)\n",
    "\n",
    "  for x,y in zip(X,Y1):\n",
    "      ax.text(x, y, '%d%%' % y, ha='center', va= 'bottom', fontsize = 14)\n",
    "  for x,y in zip(X,Y2):\n",
    "      ax.text(x, -y-0.01, '%d%%' % y, ha='center', va= 'top', fontsize = 14)\n",
    "\n",
    "  plt.xlabel(\"Idades\")\n",
    "  plt.ylabel(\"Porcentagem de votos atribuídos\")\n",
    "  plt.xticks(X)\n",
    "  plt.savefig(f'./images/{stringcase.snakecase(title)}.png',\n",
    "             orientation='landscape',\n",
    "             format='png',\n",
    "             bbox_extra_artists=(lgd,),\n",
    "             bbox_inches='tight')\n",
    "  plt.show()"
   ]
  },
  {
   "cell_type": "code",
   "execution_count": null,
   "metadata": {},
   "outputs": [],
   "source": []
  },
  {
   "cell_type": "code",
   "execution_count": 101,
   "metadata": {},
   "outputs": [
    {
     "data": {
      "image/png": "[encoded data removed]",
      "text/plain": [
       "<Figure size 1440x576 with 1 Axes>"
      ]
     },
     "metadata": {
      "needs_background": "light"
     },
     "output_type": "display_data"
    }
   ],
   "source": [
    "# corretos-sexista-genero-idade\n",
    "doublebar_plot(normalize_dict(qtd_correct_sexist_male_votes_per_age),\n",
    "               normalize_dict(qtd_correct_sexist_female_votes_per_age),\n",
    "               age_list,\n",
    "               title='corretos-sexista-genero-idade'\n",
    "              )"
   ]
  },
  {
   "cell_type": "code",
   "execution_count": 102,
   "metadata": {},
   "outputs": [
    {
     "data": {
      "image/png": "[encoded data removed]",
      "text/plain": [
       "<Figure size 1440x576 with 1 Axes>"
      ]
     },
     "metadata": {
      "needs_background": "light"
     },
     "output_type": "display_data"
    }
   ],
   "source": [
    "# incorretos-sexista-genero-idade\n",
    "doublebar_plot(normalize_dict(qtd_incorrect_sexist_male_votes_per_age),\n",
    "               normalize_dict(qtd_incorrect_sexist_female_votes_per_age),\n",
    "               age_list,\n",
    "               title='incorretos-sexista-genero-idade'\n",
    "              )"
   ]
  },
  {
   "cell_type": "code",
   "execution_count": 103,
   "metadata": {},
   "outputs": [
    {
     "data": {
      "image/png": "[encoded data removed]",
      "text/plain": [
       "<Figure size 1440x576 with 1 Axes>"
      ]
     },
     "metadata": {
      "needs_background": "light"
     },
     "output_type": "display_data"
    }
   ],
   "source": [
    "# incorretos-nao-sexista-genero-idade\n",
    "doublebar_plot(normalize_dict(qtd_incorrect_not_sexist_male_votes_per_age),\n",
    "               normalize_dict(qtd_incorrect_not_sexist_female_votes_per_age),\n",
    "               age_list,\n",
    "               title='incorretos-nao-sexista-genero-idade'\n",
    "              )"
   ]
  },
  {
   "cell_type": "code",
   "execution_count": 104,
   "metadata": {},
   "outputs": [
    {
     "data": {
      "image/png": "[encoded data removed]",
      "text/plain": [
       "<Figure size 1440x576 with 1 Axes>"
      ]
     },
     "metadata": {
      "needs_background": "light"
     },
     "output_type": "display_data"
    }
   ],
   "source": [
    "# corretos-nao-sexista-genero-idade\n",
    "doublebar_plot(normalize_dict(qtd_correct_not_sexist_male_votes_per_age),\n",
    "               normalize_dict(qtd_correct_not_sexist_female_votes_per_age),\n",
    "               age_list,\n",
    "               title='corretos-nao-sexista-genero-idade'\n",
    "              )"
   ]
  },
  {
   "cell_type": "markdown",
   "metadata": {},
   "source": [
    "## Classificação Automática"
   ]
  },
  {
   "cell_type": "code",
   "execution_count": 25,
   "metadata": {},
   "outputs": [],
   "source": [
    "from sklearn.feature_extraction.text import TfidfVectorizer\n",
    "\n",
    "tf_relevant_sexist_words = relevant_sexist_words\n",
    "\n",
    "sexist_vectorizer = TfidfVectorizer(\n",
    "    stop_words=[],\n",
    "    use_idf=False,\n",
    "    norm=None,\n",
    "    decode_error='replace',\n",
    "    max_features=100,\n",
    ")\n",
    "not_sexist_vectorizer = TfidfVectorizer(\n",
    "    stop_words=[],\n",
    "    use_idf=False,\n",
    "    decode_error='replace',\n",
    "    max_features=100,\n",
    ")\n",
    "undefined_vectorizer = TfidfVectorizer(\n",
    "    stop_words=[],\n",
    "    use_idf=False,\n",
    "    decode_error='replace',\n",
    "    max_features=100,\n",
    ")\n",
    "\n",
    "sexist_doc = sexist_comments['content'].apply(lambda y: ' '.join([x for x in y.split() if x in tf_relevant_sexist_words]))\n",
    "not_sexist_doc = not_sexist_comments['content'].apply(lambda y: ' '.join([x for x in y.split() if x in tf_relevant_sexist_words]))\n",
    "undefined_doc = undefined_comments['content'].apply(lambda y: ' '.join([x for x in y.split() if x in tf_relevant_sexist_words]))\n",
    "\n",
    "sexist_tf = pd.DataFrame(sexist_vectorizer.fit_transform(sexist_doc).toarray())\n",
    "not_sexist_tf = pd.DataFrame(not_sexist_vectorizer.fit_transform(not_sexist_doc).toarray())\n",
    "undefined_tf = pd.DataFrame(undefined_vectorizer.fit_transform(undefined_doc).toarray())\n",
    "\n",
    "sexist_y = sexist_comments['avg'].apply(lambda x: 1)\n",
    "not_sexist_y = not_sexist_comments['avg'].apply(lambda x: 0)\n",
    "undefined_y = undefined_comments['avg'].apply(lambda x: -1)\n",
    "\n",
    "y_df = np.array(pd.concat([sexist_y, not_sexist_y]))\n",
    "\n",
    "tf_dataframe = pd.concat([sexist_tf, not_sexist_tf]).fillna(0)\n",
    "tf_dataframe['sexist'] = y_df\n",
    "tf_dataframe.to_csv('data/tf_dataframe.csv', index=False)"
   ]
  },
  {
   "cell_type": "markdown",
   "metadata": {},
   "source": [
    "**Grid Search**"
   ]
  },
  {
   "cell_type": "code",
   "execution_count": 26,
   "metadata": {},
   "outputs": [],
   "source": [
    "dataframe = tf_dataframe.sample(frac=1)\n",
    "X_df = dataframe[dataframe.columns[:dataframe.shape[1] -1]]\n",
    "y_df = dataframe['sexist']\n",
    "\n",
    "M = np.concatenate([X_df],axis=1)\n",
    "X = pd.DataFrame(M)\n",
    "y = y_df.astype(int)"
   ]
  },
  {
   "cell_type": "code",
   "execution_count": 58,
   "metadata": {},
   "outputs": [],
   "source": [
    "import pickle\n",
    "from sklearn import svm\n",
    "from sklearn.model_selection import StratifiedShuffleSplit\n",
    "from sklearn.model_selection import GridSearchCV\n",
    "from sklearn.neighbors import KNeighborsClassifier\n",
    "from sklearn.svm import SVC\n",
    "\n",
    "cv = StratifiedShuffleSplit(n_splits=5, test_size=0.2, random_state=42)"
   ]
  },
  {
   "cell_type": "code",
   "execution_count": 61,
   "metadata": {},
   "outputs": [
    {
     "name": "stdout",
     "output_type": "stream",
     "text": [
      "SVM model loaded.\n",
      "The best parameters are {'C': 1.0, 'gamma': 1.0} with a score of 0.91\n"
     ]
    }
   ],
   "source": [
    "# SVM model\n",
    "try:\n",
    "    svm = pickle.load(open('./data/svm-grid-search-model', 'rb'))\n",
    "    print('SVM model loaded.')\n",
    "except:\n",
    "    print('Executing Grid Search to SVM.')\n",
    "    C_range = np.logspace(-2, 10, 13)\n",
    "    gamma_range = np.logspace(-9, 3, 13)\n",
    "    param_grid = dict(gamma=gamma_range, C=C_range)\n",
    "    svm = GridSearchCV(SVC(), param_grid=param_grid, cv=cv)\n",
    "    svm.fit(X, y)   \n",
    "    pickle.dump(svm, open('./data/svm-grid-search-model', 'wb'))\n",
    "\n",
    "print(\"The best parameters are %s with a score of %0.2f\" % (svm.best_params_, svm.best_score_))"
   ]
  },
  {
   "cell_type": "code",
   "execution_count": 56,
   "metadata": {},
   "outputs": [
    {
     "name": "stdout",
     "output_type": "stream",
     "text": [
      "Executing Grid Search to KNN.\n",
      "The best parameters are {'C': 1.0, 'gamma': 1.0} with a score of 0.91\n"
     ]
    }
   ],
   "source": [
    "# KNN model\n",
    "\n",
    "try:\n",
    "    knn = pickle.load(open('./data/knn-grid-search-model', 'rb'))\n",
    "    print('KNN model loaded.')\n",
    "except:\n",
    "    print('Executing Grid Search to KNN.')\n",
    "    n_neighbors = [3, 5, 11, 19]\n",
    "    weights = ['uniform', 'distance']\n",
    "    metric = ['euclidian', 'manhattan']\n",
    "    param_grid = dict(n_neighbors=n_neighbors, weights=weights, metric=metric)  \n",
    "    knn = GridSearchCV(SVC(), param_grid=param_grid, cv=cv)\n",
    "    knn.fit(X, y)   \n",
    "    pickle.dump(knn, open('./data/knn-grid-search-model', 'wb'))\n",
    "\n",
    "print(\"The best parameters are %s with a score of %0.2f\" % (knn.best_params_, knn.best_score_))"
   ]
  },
  {
   "cell_type": "markdown",
   "metadata": {},
   "source": [
    "**Classification reports to single test**"
   ]
  },
  {
   "cell_type": "code",
   "execution_count": 64,
   "metadata": {},
   "outputs": [],
   "source": [
    "from sklearn.model_selection import train_test_split\n",
    "X_train, X_test, y_train, y_test = train_test_split(X, y, stratify=y)"
   ]
  },
  {
   "cell_type": "code",
   "execution_count": 65,
   "metadata": {},
   "outputs": [
    {
     "name": "stdout",
     "output_type": "stream",
     "text": [
      "              precision    recall  f1-score   support\n",
      "\n",
      "           0       0.85      0.98      0.91       319\n",
      "           1       0.98      0.84      0.90       349\n",
      "\n",
      "    accuracy                           0.91       668\n",
      "   macro avg       0.91      0.91      0.91       668\n",
      "weighted avg       0.92      0.91      0.91       668\n",
      "\n"
     ]
    },
    {
     "ename": "NameError",
     "evalue": "name 'knn' is not defined",
     "output_type": "error",
     "traceback": [
      "\u001b[1;31m---------------------------------------------------------------------------\u001b[0m",
      "\u001b[1;31mNameError\u001b[0m                                 Traceback (most recent call last)",
      "\u001b[1;32m<ipython-input-65-be31a016affd>\u001b[0m in \u001b[0;36m<module>\u001b[1;34m\u001b[0m\n\u001b[0;32m      7\u001b[0m \u001b[1;33m\u001b[0m\u001b[0m\n\u001b[0;32m      8\u001b[0m \u001b[0mreport_results\u001b[0m\u001b[1;33m(\u001b[0m\u001b[0mX_test\u001b[0m\u001b[1;33m,\u001b[0m \u001b[0my_test\u001b[0m\u001b[1;33m,\u001b[0m \u001b[0msvm\u001b[0m\u001b[1;33m)\u001b[0m\u001b[1;33m\u001b[0m\u001b[1;33m\u001b[0m\u001b[0m\n\u001b[1;32m----> 9\u001b[1;33m \u001b[0mreport_results\u001b[0m\u001b[1;33m(\u001b[0m\u001b[0mX_test\u001b[0m\u001b[1;33m,\u001b[0m \u001b[0my_test\u001b[0m\u001b[1;33m,\u001b[0m \u001b[0mknn\u001b[0m\u001b[1;33m)\u001b[0m\u001b[1;33m\u001b[0m\u001b[1;33m\u001b[0m\u001b[0m\n\u001b[0m",
      "\u001b[1;31mNameError\u001b[0m: name 'knn' is not defined"
     ]
    }
   ],
   "source": [
    "from sklearn.metrics import classification_report\n",
    "\n",
    "def report_results(X_test, y_test, model):\n",
    "    y_ = model.predict(X_test)\n",
    "    report = classification_report( y_test, y_ )\n",
    "    print(report)\n",
    "    \n",
    "report_results(X_test, y_test, svm)\n",
    "report_results(X_test, y_test, knn)"
   ]
  },
  {
   "cell_type": "markdown",
   "metadata": {},
   "source": [
    "**Cross Validation**"
   ]
  },
  {
   "cell_type": "code",
   "execution_count": null,
   "metadata": {},
   "outputs": [],
   "source": [
    "from sklearn import metrics\n",
    "scoring=['precision_macro', 'recall_macro', 'f1_macro']\n",
    "from sklearn.model_selection import cross_val_score\n",
    "from sklearn.model_selection import cross_validate\n",
    "\n",
    "svm_scores = cross_validate(svm, X, y, cv=10, scoring=scoring)\n",
    "knn_scores = cross_validate(knn, X, y, cv=10, scoring=scoring)"
   ]
  },
  {
   "cell_type": "markdown",
   "metadata": {},
   "source": [
    "**Confusion matrix**"
   ]
  },
  {
   "cell_type": "code",
   "execution_count": null,
   "metadata": {},
   "outputs": [],
   "source": []
  }
 ],
 "metadata": {
  "kernelspec": {
   "display_name": "Python 3",
   "language": "python",
   "name": "python3"
  },
  "language_info": {
   "codemirror_mode": {
    "name": "ipython",
    "version": 3
   },
   "file_extension": ".py",
   "mimetype": "text/x-python",
   "name": "python",
   "nbconvert_exporter": "python",
   "pygments_lexer": "ipython3",
   "version": "3.7.6"
  }
 },
 "nbformat": 4,
 "nbformat_minor": 4
}
