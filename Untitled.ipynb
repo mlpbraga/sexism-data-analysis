{
 "cells": [
  {
   "cell_type": "code",
   "execution_count": 1,
   "id": "b4d5a6c7",
   "metadata": {},
   "outputs": [],
   "source": [
    "import pandas as pd\n",
    "from modules.retrieve_users_data import Users\n",
    "from modules.retrieve_votes_data import Votes"
   ]
  },
  {
   "cell_type": "code",
   "execution_count": 2,
   "id": "772b0721",
   "metadata": {},
   "outputs": [],
   "source": [
    "DATE='04-02-2022'"
   ]
  },
  {
   "cell_type": "code",
   "execution_count": 3,
   "id": "064337e5",
   "metadata": {},
   "outputs": [],
   "source": [
    "users_df = pd.read_csv(f'./data/{DATE}_users_df.csv')\n",
    "votes_per_user = pd.read_csv(f'./data/{DATE}_votes_per_user.csv')\n",
    "vote_frequency = pd.read_csv(f'./data/{DATE}_vote_frequency.csv')"
   ]
  },
  {
   "cell_type": "code",
   "execution_count": 4,
   "id": "44851b22",
   "metadata": {},
   "outputs": [],
   "source": [
    "users = Users(df=users_df)\n",
    "votes = Votes(votes_per_user_df=votes_per_user, vote_frequency_df=vote_frequency)"
   ]
  },
  {
   "cell_type": "code",
   "execution_count": 5,
   "id": "04fe4189",
   "metadata": {},
   "outputs": [
    {
     "data": {
      "text/plain": [
       "(577, 5)"
      ]
     },
     "execution_count": 5,
     "metadata": {},
     "output_type": "execute_result"
    }
   ],
   "source": [
    "users_df.shape"
   ]
  },
  {
   "cell_type": "code",
   "execution_count": 6,
   "id": "f98dad0d",
   "metadata": {},
   "outputs": [
    {
     "name": "stdout",
     "output_type": "stream",
     "text": [
      "\\newcommand{\\totalvotes}{12021}\n",
      "\\newcommand{\\womanvotes}{7898}\n",
      "\\newcommand{\\malevotes}{4098}\n",
      "\\newcommand{\\othervotes}{25}\n",
      "\\newcommand{\\womanvotespercentage}{65,70\\%}\n",
      "\\newcommand{\\malevotespercentage}{34,09\\%}\n",
      "\\newcommand{\\othervotespercentage}{0,21\\%}\n"
     ]
    }
   ],
   "source": [
    "votes.latex_variables()"
   ]
  },
  {
   "cell_type": "code",
   "execution_count": 7,
   "id": "0873a6d9",
   "metadata": {},
   "outputs": [
    {
     "data": {
      "text/plain": [
       "{9: {'vote_qty': 9, 'comment_qty': 1, 'kappa': 0.0},\n",
       " 7: {'vote_qty': 7, 'comment_qty': 12, 'kappa': -0.07692307692307697},\n",
       " 6: {'vote_qty': 6, 'comment_qty': 16, 'kappa': -0.0813093980992607},\n",
       " 5: {'vote_qty': 5, 'comment_qty': 199, 'kappa': 0.07008403190982523},\n",
       " 4: {'vote_qty': 4, 'comment_qty': 775, 'kappa': 0.4461120017454058},\n",
       " 3: {'vote_qty': 3, 'comment_qty': 2567, 'kappa': 0.39019835978332784},\n",
       " 2: {'vote_qty': 2, 'comment_qty': 18, 'kappa': 0.7777777777777777}}"
      ]
     },
     "execution_count": 7,
     "metadata": {},
     "output_type": "execute_result"
    }
   ],
   "source": [
    "votes.agreement"
   ]
  },
  {
   "cell_type": "code",
   "execution_count": 8,
   "id": "6c61d314",
   "metadata": {},
   "outputs": [],
   "source": [
    "x = {1: 'a'}"
   ]
  },
  {
   "cell_type": "code",
   "execution_count": 9,
   "id": "eaa5fbd1",
   "metadata": {},
   "outputs": [
    {
     "name": "stdout",
     "output_type": "stream",
     "text": [
      "9\n",
      "7\n",
      "6\n",
      "5\n",
      "4\n",
      "3\n",
      "2\n"
     ]
    }
   ],
   "source": [
    "for i in votes.vote_frequency['votes'].values:\n",
    "    print(i)"
   ]
  },
  {
   "cell_type": "code",
   "execution_count": null,
   "id": "6e1f5878",
   "metadata": {},
   "outputs": [],
   "source": []
  }
 ],
 "metadata": {
  "kernelspec": {
   "display_name": "Python 3 (ipykernel)",
   "language": "python",
   "name": "python3"
  },
  "language_info": {
   "codemirror_mode": {
    "name": "ipython",
    "version": 3
   },
   "file_extension": ".py",
   "mimetype": "text/x-python",
   "name": "python",
   "nbconvert_exporter": "python",
   "pygments_lexer": "ipython3",
   "version": "3.9.9"
  }
 },
 "nbformat": 4,
 "nbformat_minor": 5
}
