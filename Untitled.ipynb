{
 "cells": [
  {
   "cell_type": "code",
   "execution_count": 1,
   "id": "9bbd8484",
   "metadata": {},
   "outputs": [],
   "source": [
    "import pandas as pd\n",
    "from modules.retrieve_users_data import Users\n",
    "from modules.retrieve_votes_data import Votes"
   ]
  },
  {
   "cell_type": "code",
   "execution_count": 2,
   "id": "37a8e0f5",
   "metadata": {},
   "outputs": [],
   "source": [
    "DATE='04-02-2022'"
   ]
  },
  {
   "cell_type": "code",
   "execution_count": 3,
   "id": "f31b130b",
   "metadata": {},
   "outputs": [],
   "source": [
    "users_df = pd.read_csv(f'./data/{DATE}_users_df.csv')\n",
    "votes_per_user = pd.read_csv(f'./data/{DATE}_votes_per_user.csv')\n",
    "vote_frequency = pd.read_csv(f'./data/{DATE}_vote_frequency.csv')"
   ]
  },
  {
   "cell_type": "code",
   "execution_count": 4,
   "id": "d4cf32bb",
   "metadata": {},
   "outputs": [],
   "source": [
    "users = Users(df=users_df)\n",
    "votes = Votes(votes_per_user_df=votes_per_user, vote_frequency_df=vote_frequency)"
   ]
  },
  {
   "cell_type": "code",
   "execution_count": 5,
   "id": "8ccc7533",
   "metadata": {},
   "outputs": [
    {
     "data": {
      "text/plain": [
       "(577, 5)"
      ]
     },
     "execution_count": 5,
     "metadata": {},
     "output_type": "execute_result"
    }
   ],
   "source": [
    "users_df.shape"
   ]
  },
  {
   "cell_type": "code",
   "execution_count": 6,
   "id": "14d89666",
   "metadata": {},
   "outputs": [
    {
     "name": "stdout",
     "output_type": "stream",
     "text": [
      "\\newcommand{\\totalvotes}{12021}\n",
      "\\newcommand{\\womanvotes}{7898}\n",
      "\\newcommand{\\malevotes}{4098}\n",
      "\\newcommand{\\othervotes}{25}\n",
      "\\newcommand{\\womanvotespercentage}{65,70\\%}\n",
      "\\newcommand{\\malevotespercentage}{34,09\\%}\n",
      "\\newcommand{\\othervotespercentage}{0,21\\%}\n"
     ]
    }
   ],
   "source": [
    "votes.latex_variables()"
   ]
  },
  {
   "cell_type": "code",
   "execution_count": 7,
   "id": "7b1a69e8",
   "metadata": {},
   "outputs": [
    {
     "ename": "AttributeError",
     "evalue": "'Votes' object has no attribute 'agreement'",
     "output_type": "error",
     "traceback": [
      "\u001b[0;31m---------------------------------------------------------------------------\u001b[0m",
      "\u001b[0;31mAttributeError\u001b[0m                            Traceback (most recent call last)",
      "\u001b[0;32m/var/folders/pk/3cblwdc92rn9h3t4kf03y_940000gp/T/ipykernel_40470/94331260.py\u001b[0m in \u001b[0;36m<module>\u001b[0;34m\u001b[0m\n\u001b[0;32m----> 1\u001b[0;31m \u001b[0mvotes\u001b[0m\u001b[0;34m.\u001b[0m\u001b[0magreement\u001b[0m\u001b[0;34m(\u001b[0m\u001b[0;36m2\u001b[0m\u001b[0;34m)\u001b[0m\u001b[0;34m\u001b[0m\u001b[0;34m\u001b[0m\u001b[0m\n\u001b[0m",
      "\u001b[0;31mAttributeError\u001b[0m: 'Votes' object has no attribute 'agreement'"
     ]
    }
   ],
   "source": [
    "votes.agreement(2)"
   ]
  },
  {
   "cell_type": "code",
   "execution_count": null,
   "id": "2e6767b6",
   "metadata": {},
   "outputs": [],
   "source": [
    "x = {1: 'a'}"
   ]
  },
  {
   "cell_type": "code",
   "execution_count": 12,
   "id": "419b6c81",
   "metadata": {},
   "outputs": [
    {
     "name": "stdout",
     "output_type": "stream",
     "text": [
      "9\n",
      "7\n",
      "6\n",
      "5\n",
      "4\n",
      "3\n",
      "2\n"
     ]
    }
   ],
   "source": [
    "for i in votes.vote_frequency['votes'].values:\n",
    "    print(i)"
   ]
  },
  {
   "cell_type": "code",
   "execution_count": null,
   "id": "c85b7e9d",
   "metadata": {},
   "outputs": [],
   "source": []
  }
 ],
 "metadata": {
  "kernelspec": {
   "display_name": "Python 3 (ipykernel)",
   "language": "python",
   "name": "python3"
  },
  "language_info": {
   "codemirror_mode": {
    "name": "ipython",
    "version": 3
   },
   "file_extension": ".py",
   "mimetype": "text/x-python",
   "name": "python",
   "nbconvert_exporter": "python",
   "pygments_lexer": "ipython3",
   "version": "3.9.9"
  }
 },
 "nbformat": 4,
 "nbformat_minor": 5
}
