{
 "cells": [
  {
   "cell_type": "code",
   "execution_count": 1,
   "id": "f67ef64e",
   "metadata": {},
   "outputs": [],
   "source": [
    "DATA_FILE_NAME = 'data/05-03-2022_votes_per_user.csv' "
   ]
  },
  {
   "cell_type": "code",
   "execution_count": 8,
   "id": "dc02f65e",
   "metadata": {},
   "outputs": [],
   "source": [
    "from modules.retrieve_votes_data import Votes\n",
    "import pandas as pd\n",
    "\n",
    "votes_ = Votes(dataframe_path=DATA_FILE_NAME)"
   ]
  },
  {
   "cell_type": "code",
   "execution_count": 3,
   "id": "466a14da",
   "metadata": {},
   "outputs": [],
   "source": [
    "group_votes = votes_.votes_per_user[['vote_id','comment_id']].groupby(['comment_id']).count()\n",
    "comments_w_4_votes = list(group_votes[group_votes['vote_id'] == 4].index)\n",
    "female_votes = votes_.votes_per_user[votes_.votes_per_user['gender']=='fem']\n",
    "comments_w_2_female_votes = female_votes[['vote_id','comment_id']].groupby(['comment_id']).count()\n",
    "comments_w_2_female_votes = list(comments_w_2_female_votes[comments_w_2_female_votes['vote_id'] == 2].index)"
   ]
  },
  {
   "cell_type": "code",
   "execution_count": 4,
   "id": "07567590",
   "metadata": {},
   "outputs": [
    {
     "data": {
      "text/plain": [
       "234"
      ]
     },
     "execution_count": 4,
     "metadata": {},
     "output_type": "execute_result"
    }
   ],
   "source": [
    "equally_voted_comments = [x for x in comments_w_4_votes if x in comments_w_2_female_votes]\n",
    "len(equally_voted_comments)"
   ]
  },
  {
   "cell_type": "code",
   "execution_count": 5,
   "id": "0f66d9a7",
   "metadata": {},
   "outputs": [],
   "source": [
    "try:\n",
    "    dataframe = pd.read_csv('data/equally_labeled_comments.csv', sep=';')\n",
    "    dataframe = dataframe.loc[:, ~dataframe.columns.str.contains('^Unnamed')]\n",
    "    equally_voted_votes = pd.read_csv('data/equally_votes_per_user.csv', sep=';')\n",
    "    equally_voted_votes = female_votes.loc[:, ~dataframe.columns.str.contains('^Unnamed')]\n",
    "    print('> Reading from csv...')\n",
    "except:\n",
    "    equally_voted_votes = votes_.votes_per_user[votes_.votes_per_user.vote_id.isin(equally_voted_comments)]\n",
    "    equally_voted_votes.to_csv('data/equally_votes_per_user.csv', sep=';') \n",
    "    dataframe = pd.read_csv('data/05-03-2022_labeled_comments.csv', sep=';');\n",
    "    for index,element in dataframe.iterrows():\n",
    "        votes = female_votes[female_votes['comment_id']==element.comment_id]\n",
    "        vote_mean = votes.vote.mean()\n",
    "        vote_quantity = votes.comment_id.count()\n",
    "        dataframe.loc[dataframe.comment_id == element.comment_id, 'avg'] = vote_mean\n",
    "        dataframe.loc[dataframe.comment_id == element.comment_id, 'votes'] = vote_quantity\n",
    "    dataframe.to_csv('data/equally_labeled_comments.csv', sep=';')    "
   ]
  },
  {
   "cell_type": "code",
   "execution_count": 9,
   "id": "34c3d684",
   "metadata": {},
   "outputs": [
    {
     "ename": "IndexError",
     "evalue": "single positional indexer is out-of-bounds",
     "output_type": "error",
     "traceback": [
      "\u001b[0;31m---------------------------------------------------------------------------\u001b[0m",
      "\u001b[0;31mIndexError\u001b[0m                                Traceback (most recent call last)",
      "Input \u001b[0;32mIn [9]\u001b[0m, in \u001b[0;36m<cell line: 1>\u001b[0;34m()\u001b[0m\n\u001b[0;32m----> 1\u001b[0m equally_voted_votes \u001b[38;5;241m=\u001b[39m \u001b[43mVotes\u001b[49m\u001b[43m(\u001b[49m\u001b[43mdataframe_path\u001b[49m\u001b[38;5;241;43m=\u001b[39;49m\u001b[38;5;124;43m'\u001b[39;49m\u001b[38;5;124;43mdata/equally_votes_per_user.csv\u001b[39;49m\u001b[38;5;124;43m'\u001b[39;49m\u001b[43m)\u001b[49m\n",
      "File \u001b[0;32m~/mestrado/sexism-data-analysis/modules/retrieve_votes_data.py:111\u001b[0m, in \u001b[0;36mVotes.__init__\u001b[0;34m(self, conn, remake, dataframe_path, votes_per_user_df, vote_frequency_df)\u001b[0m\n\u001b[1;32m    108\u001b[0m \u001b[38;5;28mself\u001b[39m\u001b[38;5;241m.\u001b[39magreement \u001b[38;5;241m=\u001b[39m {}\n\u001b[1;32m    110\u001b[0m \u001b[38;5;28;01mfor\u001b[39;00m i \u001b[38;5;129;01min\u001b[39;00m \u001b[38;5;28mself\u001b[39m\u001b[38;5;241m.\u001b[39mvote_frequency[\u001b[38;5;124m'\u001b[39m\u001b[38;5;124mvotes\u001b[39m\u001b[38;5;124m'\u001b[39m]\u001b[38;5;241m.\u001b[39mvalues:\n\u001b[0;32m--> 111\u001b[0m     \u001b[38;5;28;43mself\u001b[39;49m\u001b[38;5;241;43m.\u001b[39;49m\u001b[43m_agreement\u001b[49m\u001b[43m(\u001b[49m\u001b[43mi\u001b[49m\u001b[43m)\u001b[49m\n",
      "File \u001b[0;32m~/mestrado/sexism-data-analysis/modules/retrieve_votes_data.py:137\u001b[0m, in \u001b[0;36mVotes._agreement\u001b[0;34m(self, vote_qty)\u001b[0m\n\u001b[1;32m    135\u001b[0m             comment_vote[\u001b[38;5;124m'\u001b[39m\u001b[38;5;124mcomment_id\u001b[39m\u001b[38;5;124m'\u001b[39m]\u001b[38;5;241m.\u001b[39mappend(comment)\n\u001b[1;32m    136\u001b[0m         \u001b[38;5;28;01melse\u001b[39;00m:\n\u001b[0;32m--> 137\u001b[0m             comment_vote[keys[i]]\u001b[38;5;241m.\u001b[39mappend(\u001b[43mdf\u001b[49m\u001b[38;5;241;43m.\u001b[39;49m\u001b[43miloc\u001b[49m\u001b[43m[\u001b[49m\u001b[43mi\u001b[49m\u001b[38;5;241;43m-\u001b[39;49m\u001b[38;5;241;43m1\u001b[39;49m\u001b[43m]\u001b[49m\u001b[38;5;241m.\u001b[39mvote)\n\u001b[1;32m    139\u001b[0m comment_vote \u001b[38;5;241m=\u001b[39m pd\u001b[38;5;241m.\u001b[39mDataFrame(comment_vote)\n\u001b[1;32m    141\u001b[0m keys \u001b[38;5;241m=\u001b[39m \u001b[38;5;28mlist\u001b[39m(comment_vote\u001b[38;5;241m.\u001b[39mkeys())\n",
      "File \u001b[0;32m/opt/homebrew/lib/python3.9/site-packages/pandas/core/indexing.py:931\u001b[0m, in \u001b[0;36m_LocationIndexer.__getitem__\u001b[0;34m(self, key)\u001b[0m\n\u001b[1;32m    928\u001b[0m axis \u001b[38;5;241m=\u001b[39m \u001b[38;5;28mself\u001b[39m\u001b[38;5;241m.\u001b[39maxis \u001b[38;5;129;01mor\u001b[39;00m \u001b[38;5;241m0\u001b[39m\n\u001b[1;32m    930\u001b[0m maybe_callable \u001b[38;5;241m=\u001b[39m com\u001b[38;5;241m.\u001b[39mapply_if_callable(key, \u001b[38;5;28mself\u001b[39m\u001b[38;5;241m.\u001b[39mobj)\n\u001b[0;32m--> 931\u001b[0m \u001b[38;5;28;01mreturn\u001b[39;00m \u001b[38;5;28;43mself\u001b[39;49m\u001b[38;5;241;43m.\u001b[39;49m\u001b[43m_getitem_axis\u001b[49m\u001b[43m(\u001b[49m\u001b[43mmaybe_callable\u001b[49m\u001b[43m,\u001b[49m\u001b[43m \u001b[49m\u001b[43maxis\u001b[49m\u001b[38;5;241;43m=\u001b[39;49m\u001b[43maxis\u001b[49m\u001b[43m)\u001b[49m\n",
      "File \u001b[0;32m/opt/homebrew/lib/python3.9/site-packages/pandas/core/indexing.py:1566\u001b[0m, in \u001b[0;36m_iLocIndexer._getitem_axis\u001b[0;34m(self, key, axis)\u001b[0m\n\u001b[1;32m   1563\u001b[0m     \u001b[38;5;28;01mraise\u001b[39;00m \u001b[38;5;167;01mTypeError\u001b[39;00m(\u001b[38;5;124m\"\u001b[39m\u001b[38;5;124mCannot index by location index with a non-integer key\u001b[39m\u001b[38;5;124m\"\u001b[39m)\n\u001b[1;32m   1565\u001b[0m \u001b[38;5;66;03m# validate the location\u001b[39;00m\n\u001b[0;32m-> 1566\u001b[0m \u001b[38;5;28;43mself\u001b[39;49m\u001b[38;5;241;43m.\u001b[39;49m\u001b[43m_validate_integer\u001b[49m\u001b[43m(\u001b[49m\u001b[43mkey\u001b[49m\u001b[43m,\u001b[49m\u001b[43m \u001b[49m\u001b[43maxis\u001b[49m\u001b[43m)\u001b[49m\n\u001b[1;32m   1568\u001b[0m \u001b[38;5;28;01mreturn\u001b[39;00m \u001b[38;5;28mself\u001b[39m\u001b[38;5;241m.\u001b[39mobj\u001b[38;5;241m.\u001b[39m_ixs(key, axis\u001b[38;5;241m=\u001b[39maxis)\n",
      "File \u001b[0;32m/opt/homebrew/lib/python3.9/site-packages/pandas/core/indexing.py:1500\u001b[0m, in \u001b[0;36m_iLocIndexer._validate_integer\u001b[0;34m(self, key, axis)\u001b[0m\n\u001b[1;32m   1498\u001b[0m len_axis \u001b[38;5;241m=\u001b[39m \u001b[38;5;28mlen\u001b[39m(\u001b[38;5;28mself\u001b[39m\u001b[38;5;241m.\u001b[39mobj\u001b[38;5;241m.\u001b[39m_get_axis(axis))\n\u001b[1;32m   1499\u001b[0m \u001b[38;5;28;01mif\u001b[39;00m key \u001b[38;5;241m>\u001b[39m\u001b[38;5;241m=\u001b[39m len_axis \u001b[38;5;129;01mor\u001b[39;00m key \u001b[38;5;241m<\u001b[39m \u001b[38;5;241m-\u001b[39mlen_axis:\n\u001b[0;32m-> 1500\u001b[0m     \u001b[38;5;28;01mraise\u001b[39;00m \u001b[38;5;167;01mIndexError\u001b[39;00m(\u001b[38;5;124m\"\u001b[39m\u001b[38;5;124msingle positional indexer is out-of-bounds\u001b[39m\u001b[38;5;124m\"\u001b[39m)\n",
      "\u001b[0;31mIndexError\u001b[0m: single positional indexer is out-of-bounds"
     ]
    }
   ],
   "source": [
    "equally_voted_votes = Votes(dataframe_path='data/equally_votes_per_user.csv')"
   ]
  },
  {
   "cell_type": "code",
   "execution_count": null,
   "id": "29a38252",
   "metadata": {},
   "outputs": [],
   "source": [
    "try:\n",
    "    dataframe = pd.read_csv('data/female_labeled_comments.csv', sep=';')\n",
    "    dataframe = dataframe.loc[:, ~dataframe.columns.str.contains('^Unnamed')]\n",
    "    female_votes = pd.read_csv('data/female_votes_per_user.csv', sep=';')\n",
    "    female_votes = female_votes.loc[:, ~dataframe.columns.str.contains('^Unnamed')]\n",
    "    print('> Reading from csv...')\n",
    "except:\n",
    "    female_votes = votes_.votes_per_user[votes_.votes_per_user['gender']=='fem']\n",
    "    female_votes.to_csv('data/female_votes_per_user.csv', sep=';') \n",
    "    dataframe = pd.read_csv('data/05-03-2022_labeled_comments.csv', sep=';');\n",
    "    for index,element in dataframe.iterrows():\n",
    "        votes = female_votes[female_votes['comment_id']==element.comment_id]\n",
    "        vote_mean = votes.vote.mean()\n",
    "        vote_quantity = votes.comment_id.count()\n",
    "        dataframe.loc[dataframe.comment_id == element.comment_id, 'avg'] = vote_mean\n",
    "        dataframe.loc[dataframe.comment_id == element.comment_id, 'votes'] = vote_quantity\n",
    "    dataframe.to_csv('data/female_labeled_comments.csv', sep=';')    "
   ]
  },
  {
   "cell_type": "code",
   "execution_count": null,
   "id": "0c1d5341",
   "metadata": {},
   "outputs": [],
   "source": [
    "int(e.comment_id)"
   ]
  },
  {
   "cell_type": "code",
   "execution_count": null,
   "id": "9038c22a",
   "metadata": {},
   "outputs": [],
   "source": [
    "diff = {}\n",
    "for index,element in dataframe.iterrows():\n",
    "    e = df[df.comment_id == element.comment_id]\n",
    "    if float(e.avg) != element.avg:\n",
    "        diff[int(e.comment_id)] = {'original': float(e.avg), 'female': float(element.avg)}"
   ]
  },
  {
   "cell_type": "code",
   "execution_count": null,
   "id": "8cc05784",
   "metadata": {},
   "outputs": [],
   "source": [
    "len(diff.keys())"
   ]
  },
  {
   "cell_type": "code",
   "execution_count": null,
   "id": "32ed21fa",
   "metadata": {},
   "outputs": [],
   "source": [
    "diff"
   ]
  },
  {
   "cell_type": "code",
   "execution_count": null,
   "id": "6e03f611",
   "metadata": {},
   "outputs": [],
   "source": [
    "female_vote_frequency = {}\n",
    "comments_vote_frequency = {}\n",
    "\n",
    "for index,element in female_votes.iterrows():\n",
    "    if element.comment_id not in comments_vote_frequency.keys():\n",
    "        comments_vote_frequency[element.comment_id] = 1\n",
    "    else:\n",
    "        comments_vote_frequency[element.comment_id] += 1\n",
    "\n",
    "for comment in comments_vote_frequency.keys():\n",
    "    if comments_vote_frequency[comment] not in female_vote_frequency.keys():\n",
    "        female_vote_frequency[comments_vote_frequency[comment]] = 1\n",
    "    else:\n",
    "        female_vote_frequency[comments_vote_frequency[comment]] += 1"
   ]
  },
  {
   "cell_type": "code",
   "execution_count": null,
   "id": "9e4f4b76",
   "metadata": {},
   "outputs": [],
   "source": []
  },
  {
   "cell_type": "code",
   "execution_count": null,
   "id": "103662eb",
   "metadata": {},
   "outputs": [],
   "source": [
    "def find_by_key(mydict, key):\n",
    "    return list(mydict.keys())[list(mydict.values()).index(key)]"
   ]
  },
  {
   "cell_type": "code",
   "execution_count": null,
   "id": "e076e42b",
   "metadata": {},
   "outputs": [],
   "source": [
    "find_by_key(comments_vote_frequency, 7)"
   ]
  },
  {
   "cell_type": "code",
   "execution_count": null,
   "id": "c28c6acd",
   "metadata": {},
   "outputs": [],
   "source": [
    "female_vote_frequency"
   ]
  },
  {
   "cell_type": "code",
   "execution_count": null,
   "id": "31a3116f",
   "metadata": {},
   "outputs": [],
   "source": [
    "female_votes_ = Votes(dataframe_path='data/female_votes_per_user.csv')"
   ]
  },
  {
   "cell_type": "code",
   "execution_count": null,
   "id": "905bd186",
   "metadata": {},
   "outputs": [],
   "source": [
    "female_votes_.agreement"
   ]
  },
  {
   "cell_type": "code",
   "execution_count": null,
   "id": "0696b756",
   "metadata": {},
   "outputs": [],
   "source": [
    "from modules.read_dataframe import Comments\n",
    "\n",
    "comments = Comments(dataframe_path='data/female_labeled_comments.csv')"
   ]
  },
  {
   "cell_type": "code",
   "execution_count": null,
   "id": "c06d197c",
   "metadata": {},
   "outputs": [],
   "source": []
  }
 ],
 "metadata": {
  "kernelspec": {
   "display_name": "Python 3 (ipykernel)",
   "language": "python",
   "name": "python3"
  },
  "language_info": {
   "codemirror_mode": {
    "name": "ipython",
    "version": 3
   },
   "file_extension": ".py",
   "mimetype": "text/x-python",
   "name": "python",
   "nbconvert_exporter": "python",
   "pygments_lexer": "ipython3",
   "version": "3.9.9"
  }
 },
 "nbformat": 4,
 "nbformat_minor": 5
}
