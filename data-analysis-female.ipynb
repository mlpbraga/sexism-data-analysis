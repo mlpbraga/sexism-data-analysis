{
 "cells": [
  {
   "cell_type": "code",
   "execution_count": 1,
   "id": "f67ef64e",
   "metadata": {},
   "outputs": [],
   "source": [
    "DATA_FILE_NAME = 'data/05-03-2022_votes_per_user.csv' "
   ]
  },
  {
   "cell_type": "code",
   "execution_count": 2,
   "id": "dc02f65e",
   "metadata": {},
   "outputs": [],
   "source": [
    "from modules.retrieve_votes_data import Votes\n",
    "import pandas as pd\n",
    "\n",
    "votes_ = Votes(dataframe_path=DATA_FILE_NAME)"
   ]
  },
  {
   "cell_type": "code",
   "execution_count": 3,
   "id": "466a14da",
   "metadata": {},
   "outputs": [],
   "source": [
    "group_votes = votes_.votes_per_user[['vote_id','comment_id']].groupby(['comment_id']).count()\n",
    "comments_w_4_votes = list(group_votes[group_votes['vote_id'] == 4].index)\n",
    "female_votes = votes_.votes_per_user[votes_.votes_per_user['gender']=='fem']\n",
    "comments_w_2_female_votes = female_votes[['vote_id','comment_id']].groupby(['comment_id']).count()\n",
    "comments_w_2_female_votes = list(comments_w_2_female_votes[comments_w_2_female_votes['vote_id'] == 2].index)"
   ]
  },
  {
   "cell_type": "code",
   "execution_count": 4,
   "id": "07567590",
   "metadata": {},
   "outputs": [
    {
     "data": {
      "text/plain": [
       "234"
      ]
     },
     "execution_count": 4,
     "metadata": {},
     "output_type": "execute_result"
    }
   ],
   "source": [
    "equally_voted_comments = [x for x in comments_w_4_votes if x in comments_w_2_female_votes]\n",
    "len(equally_voted_comments)"
   ]
  },
  {
   "cell_type": "code",
   "execution_count": 5,
   "id": "0f66d9a7",
   "metadata": {},
   "outputs": [],
   "source": [
    "try:\n",
    "    dataframe = pd.read_csv('data/equally_labeled_comments.csv', sep=';')\n",
    "    dataframe = dataframe.loc[:, ~dataframe.columns.str.contains('^Unnamed')]\n",
    "    equally_voted_votes = pd.read_csv('data/equally_votes_per_user.csv', sep=';')\n",
    "    equally_voted_votes = female_votes.loc[:, ~dataframe.columns.str.contains('^Unnamed')]\n",
    "    print('> Reading from csv...')\n",
    "except:\n",
    "    equally_voted_votes = votes_.votes_per_user[votes_.votes_per_user.vote_id.isin(equally_voted_comments)]\n",
    "    equally_voted_votes.to_csv('data/equally_votes_per_user.csv', sep=';') \n",
    "    dataframe = pd.read_csv('data/05-03-2022_labeled_comments.csv', sep=';');\n",
    "    for index,element in dataframe.iterrows():\n",
    "        votes = female_votes[female_votes['comment_id']==element.comment_id]\n",
    "        vote_mean = votes.vote.mean()\n",
    "        vote_quantity = votes.comment_id.count()\n",
    "        dataframe.loc[dataframe.comment_id == element.comment_id, 'avg'] = vote_mean\n",
    "        dataframe.loc[dataframe.comment_id == element.comment_id, 'votes'] = vote_quantity\n",
    "    dataframe.to_csv('data/equally_labeled_comments.csv', sep=';')    "
   ]
  },
  {
   "cell_type": "code",
   "execution_count": 7,
   "id": "34c3d684",
   "metadata": {},
   "outputs": [],
   "source": [
    "equally_voted_votes = Votes(dataframe_path='data/equally_votes_per_user.csv', agreement=False)"
   ]
  },
  {
   "cell_type": "code",
   "execution_count": 17,
   "id": "e3ceb91d",
   "metadata": {},
   "outputs": [
    {
     "data": {
      "text/html": [
       "<div>\n",
       "<style scoped>\n",
       "    .dataframe tbody tr th:only-of-type {\n",
       "        vertical-align: middle;\n",
       "    }\n",
       "\n",
       "    .dataframe tbody tr th {\n",
       "        vertical-align: top;\n",
       "    }\n",
       "\n",
       "    .dataframe thead th {\n",
       "        text-align: right;\n",
       "    }\n",
       "</style>\n",
       "<table border=\"1\" class=\"dataframe\">\n",
       "  <thead>\n",
       "    <tr style=\"text-align: right;\">\n",
       "      <th></th>\n",
       "      <th>Unnamed: 0</th>\n",
       "      <th>vote_id</th>\n",
       "      <th>comment_id</th>\n",
       "      <th>user_id</th>\n",
       "      <th>gender</th>\n",
       "      <th>age</th>\n",
       "      <th>content</th>\n",
       "      <th>vote</th>\n",
       "      <th>label</th>\n",
       "    </tr>\n",
       "  </thead>\n",
       "  <tbody>\n",
       "    <tr>\n",
       "      <th>0</th>\n",
       "      <td>43</td>\n",
       "      <td>2558</td>\n",
       "      <td>1331</td>\n",
       "      <td>81</td>\n",
       "      <td>fem</td>\n",
       "      <td>32.0</td>\n",
       "      <td>Eu não tenho problemas, eu tenho soluções.</td>\n",
       "      <td>1</td>\n",
       "      <td>0.333333</td>\n",
       "    </tr>\n",
       "  </tbody>\n",
       "</table>\n",
       "</div>"
      ],
      "text/plain": [
       "   Unnamed: 0  vote_id  comment_id  user_id gender   age  \\\n",
       "0          43     2558        1331       81    fem  32.0   \n",
       "\n",
       "                                      content  vote     label  \n",
       "0  Eu não tenho problemas, eu tenho soluções.     1  0.333333  "
      ]
     },
     "execution_count": 17,
     "metadata": {},
     "output_type": "execute_result"
    }
   ],
   "source": [
    "equally_voted_votes.votes_per_user[equally_voted_votes.votes_per_user['comment_id']==1331]"
   ]
  },
  {
   "cell_type": "code",
   "execution_count": 13,
   "id": "87db5904",
   "metadata": {},
   "outputs": [],
   "source": [
    "COMMENT_VOTE = {\n",
    "    'comment_id': [],\n",
    "    'user_A': [],\n",
    "    'user_B': [],\n",
    "    'user_C': [],\n",
    "    'user_D': [],\n",
    "}\n",
    "keys = list(COMMENT_VOTE.keys())\n",
    "keys = keys[:4+1]\n",
    "comment_vote = {}\n",
    "for key in keys:\n",
    "    comment_vote[key] = []\n",
    "\n",
    "count_votes = {}"
   ]
  },
  {
   "cell_type": "code",
   "execution_count": 15,
   "id": "d8a23ac3",
   "metadata": {},
   "outputs": [
    {
     "data": {
      "text/html": [
       "<div>\n",
       "<style scoped>\n",
       "    .dataframe tbody tr th:only-of-type {\n",
       "        vertical-align: middle;\n",
       "    }\n",
       "\n",
       "    .dataframe tbody tr th {\n",
       "        vertical-align: top;\n",
       "    }\n",
       "\n",
       "    .dataframe thead tr th {\n",
       "        text-align: left;\n",
       "    }\n",
       "\n",
       "    .dataframe thead tr:last-of-type th {\n",
       "        text-align: right;\n",
       "    }\n",
       "</style>\n",
       "<table border=\"1\" class=\"dataframe\">\n",
       "  <thead>\n",
       "    <tr>\n",
       "      <th></th>\n",
       "      <th>Unnamed: 0</th>\n",
       "      <th>vote_id</th>\n",
       "      <th>user_id</th>\n",
       "      <th>gender</th>\n",
       "      <th>age</th>\n",
       "      <th>content</th>\n",
       "      <th>vote</th>\n",
       "      <th>label</th>\n",
       "    </tr>\n",
       "    <tr>\n",
       "      <th></th>\n",
       "      <th>count</th>\n",
       "      <th>count</th>\n",
       "      <th>count</th>\n",
       "      <th>count</th>\n",
       "      <th>count</th>\n",
       "      <th>count</th>\n",
       "      <th>count</th>\n",
       "      <th>count</th>\n",
       "    </tr>\n",
       "    <tr>\n",
       "      <th>comment_id</th>\n",
       "      <th></th>\n",
       "      <th></th>\n",
       "      <th></th>\n",
       "      <th></th>\n",
       "      <th></th>\n",
       "      <th></th>\n",
       "      <th></th>\n",
       "      <th></th>\n",
       "    </tr>\n",
       "  </thead>\n",
       "  <tbody>\n",
       "    <tr>\n",
       "      <th>18</th>\n",
       "      <td>1</td>\n",
       "      <td>1</td>\n",
       "      <td>1</td>\n",
       "      <td>1</td>\n",
       "      <td>1</td>\n",
       "      <td>1</td>\n",
       "      <td>1</td>\n",
       "      <td>1</td>\n",
       "    </tr>\n",
       "    <tr>\n",
       "      <th>35</th>\n",
       "      <td>1</td>\n",
       "      <td>1</td>\n",
       "      <td>1</td>\n",
       "      <td>1</td>\n",
       "      <td>1</td>\n",
       "      <td>1</td>\n",
       "      <td>1</td>\n",
       "      <td>1</td>\n",
       "    </tr>\n",
       "    <tr>\n",
       "      <th>44</th>\n",
       "      <td>1</td>\n",
       "      <td>1</td>\n",
       "      <td>1</td>\n",
       "      <td>1</td>\n",
       "      <td>1</td>\n",
       "      <td>1</td>\n",
       "      <td>1</td>\n",
       "      <td>1</td>\n",
       "    </tr>\n",
       "    <tr>\n",
       "      <th>45</th>\n",
       "      <td>1</td>\n",
       "      <td>1</td>\n",
       "      <td>1</td>\n",
       "      <td>1</td>\n",
       "      <td>1</td>\n",
       "      <td>1</td>\n",
       "      <td>1</td>\n",
       "      <td>1</td>\n",
       "    </tr>\n",
       "    <tr>\n",
       "      <th>64</th>\n",
       "      <td>1</td>\n",
       "      <td>1</td>\n",
       "      <td>1</td>\n",
       "      <td>1</td>\n",
       "      <td>1</td>\n",
       "      <td>1</td>\n",
       "      <td>1</td>\n",
       "      <td>1</td>\n",
       "    </tr>\n",
       "    <tr>\n",
       "      <th>...</th>\n",
       "      <td>...</td>\n",
       "      <td>...</td>\n",
       "      <td>...</td>\n",
       "      <td>...</td>\n",
       "      <td>...</td>\n",
       "      <td>...</td>\n",
       "      <td>...</td>\n",
       "      <td>...</td>\n",
       "    </tr>\n",
       "    <tr>\n",
       "      <th>3208</th>\n",
       "      <td>1</td>\n",
       "      <td>1</td>\n",
       "      <td>1</td>\n",
       "      <td>1</td>\n",
       "      <td>1</td>\n",
       "      <td>1</td>\n",
       "      <td>1</td>\n",
       "      <td>1</td>\n",
       "    </tr>\n",
       "    <tr>\n",
       "      <th>3214</th>\n",
       "      <td>1</td>\n",
       "      <td>1</td>\n",
       "      <td>1</td>\n",
       "      <td>1</td>\n",
       "      <td>1</td>\n",
       "      <td>1</td>\n",
       "      <td>1</td>\n",
       "      <td>1</td>\n",
       "    </tr>\n",
       "    <tr>\n",
       "      <th>3265</th>\n",
       "      <td>1</td>\n",
       "      <td>1</td>\n",
       "      <td>1</td>\n",
       "      <td>1</td>\n",
       "      <td>1</td>\n",
       "      <td>1</td>\n",
       "      <td>1</td>\n",
       "      <td>1</td>\n",
       "    </tr>\n",
       "    <tr>\n",
       "      <th>3271</th>\n",
       "      <td>1</td>\n",
       "      <td>1</td>\n",
       "      <td>1</td>\n",
       "      <td>1</td>\n",
       "      <td>1</td>\n",
       "      <td>1</td>\n",
       "      <td>1</td>\n",
       "      <td>1</td>\n",
       "    </tr>\n",
       "    <tr>\n",
       "      <th>3279</th>\n",
       "      <td>1</td>\n",
       "      <td>1</td>\n",
       "      <td>1</td>\n",
       "      <td>1</td>\n",
       "      <td>1</td>\n",
       "      <td>1</td>\n",
       "      <td>1</td>\n",
       "      <td>1</td>\n",
       "    </tr>\n",
       "  </tbody>\n",
       "</table>\n",
       "<p>226 rows × 8 columns</p>\n",
       "</div>"
      ],
      "text/plain": [
       "           Unnamed: 0 vote_id user_id gender   age content  vote label\n",
       "                count   count   count  count count   count count count\n",
       "comment_id                                                            \n",
       "18                  1       1       1      1     1       1     1     1\n",
       "35                  1       1       1      1     1       1     1     1\n",
       "44                  1       1       1      1     1       1     1     1\n",
       "45                  1       1       1      1     1       1     1     1\n",
       "64                  1       1       1      1     1       1     1     1\n",
       "...               ...     ...     ...    ...   ...     ...   ...   ...\n",
       "3208                1       1       1      1     1       1     1     1\n",
       "3214                1       1       1      1     1       1     1     1\n",
       "3265                1       1       1      1     1       1     1     1\n",
       "3271                1       1       1      1     1       1     1     1\n",
       "3279                1       1       1      1     1       1     1     1\n",
       "\n",
       "[226 rows x 8 columns]"
      ]
     },
     "execution_count": 15,
     "metadata": {},
     "output_type": "execute_result"
    }
   ],
   "source": [
    "equally_voted_votes.votes_per_user.groupby(['comment_id']).agg(['count'])"
   ]
  },
  {
   "cell_type": "code",
   "execution_count": 14,
   "id": "37b8cf3e",
   "metadata": {},
   "outputs": [
    {
     "data": {
      "text/plain": [
       "{'comment_id': [], 'user_A': [], 'user_B': [], 'user_C': [], 'user_D': []}"
      ]
     },
     "execution_count": 14,
     "metadata": {},
     "output_type": "execute_result"
    }
   ],
   "source": [
    "comment_vote"
   ]
  },
  {
   "cell_type": "code",
   "execution_count": null,
   "id": "97ba9915",
   "metadata": {},
   "outputs": [],
   "source": [
    "def agreement(votes_df):\n",
    "    "
   ]
  },
  {
   "cell_type": "code",
   "execution_count": null,
   "id": "29a38252",
   "metadata": {},
   "outputs": [],
   "source": [
    "try:\n",
    "    dataframe = pd.read_csv('data/female_labeled_comments.csv', sep=';')\n",
    "    dataframe = dataframe.loc[:, ~dataframe.columns.str.contains('^Unnamed')]\n",
    "    female_votes = pd.read_csv('data/female_votes_per_user.csv', sep=';')\n",
    "    female_votes = female_votes.loc[:, ~dataframe.columns.str.contains('^Unnamed')]\n",
    "    print('> Reading from csv...')\n",
    "except:\n",
    "    female_votes = votes_.votes_per_user[votes_.votes_per_user['gender']=='fem']\n",
    "    female_votes.to_csv('data/female_votes_per_user.csv', sep=';') \n",
    "    dataframe = pd.read_csv('data/05-03-2022_labeled_comments.csv', sep=';');\n",
    "    for index,element in dataframe.iterrows():\n",
    "        votes = female_votes[female_votes['comment_id']==element.comment_id]\n",
    "        vote_mean = votes.vote.mean()\n",
    "        vote_quantity = votes.comment_id.count()\n",
    "        dataframe.loc[dataframe.comment_id == element.comment_id, 'avg'] = vote_mean\n",
    "        dataframe.loc[dataframe.comment_id == element.comment_id, 'votes'] = vote_quantity\n",
    "    dataframe.to_csv('data/female_labeled_comments.csv', sep=';')    "
   ]
  },
  {
   "cell_type": "code",
   "execution_count": null,
   "id": "0c1d5341",
   "metadata": {},
   "outputs": [],
   "source": [
    "int(e.comment_id)"
   ]
  },
  {
   "cell_type": "code",
   "execution_count": null,
   "id": "9038c22a",
   "metadata": {},
   "outputs": [],
   "source": [
    "diff = {}\n",
    "for index,element in dataframe.iterrows():\n",
    "    e = df[df.comment_id == element.comment_id]\n",
    "    if float(e.avg) != element.avg:\n",
    "        diff[int(e.comment_id)] = {'original': float(e.avg), 'female': float(element.avg)}"
   ]
  },
  {
   "cell_type": "code",
   "execution_count": null,
   "id": "8cc05784",
   "metadata": {},
   "outputs": [],
   "source": [
    "len(diff.keys())"
   ]
  },
  {
   "cell_type": "code",
   "execution_count": null,
   "id": "32ed21fa",
   "metadata": {},
   "outputs": [],
   "source": [
    "diff"
   ]
  },
  {
   "cell_type": "code",
   "execution_count": null,
   "id": "6e03f611",
   "metadata": {},
   "outputs": [],
   "source": [
    "female_vote_frequency = {}\n",
    "comments_vote_frequency = {}\n",
    "\n",
    "for index,element in female_votes.iterrows():\n",
    "    if element.comment_id not in comments_vote_frequency.keys():\n",
    "        comments_vote_frequency[element.comment_id] = 1\n",
    "    else:\n",
    "        comments_vote_frequency[element.comment_id] += 1\n",
    "\n",
    "for comment in comments_vote_frequency.keys():\n",
    "    if comments_vote_frequency[comment] not in female_vote_frequency.keys():\n",
    "        female_vote_frequency[comments_vote_frequency[comment]] = 1\n",
    "    else:\n",
    "        female_vote_frequency[comments_vote_frequency[comment]] += 1"
   ]
  },
  {
   "cell_type": "code",
   "execution_count": null,
   "id": "9e4f4b76",
   "metadata": {},
   "outputs": [],
   "source": []
  },
  {
   "cell_type": "code",
   "execution_count": null,
   "id": "103662eb",
   "metadata": {},
   "outputs": [],
   "source": [
    "def find_by_key(mydict, key):\n",
    "    return list(mydict.keys())[list(mydict.values()).index(key)]"
   ]
  },
  {
   "cell_type": "code",
   "execution_count": null,
   "id": "e076e42b",
   "metadata": {},
   "outputs": [],
   "source": [
    "find_by_key(comments_vote_frequency, 7)"
   ]
  },
  {
   "cell_type": "code",
   "execution_count": null,
   "id": "c28c6acd",
   "metadata": {},
   "outputs": [],
   "source": [
    "female_vote_frequency"
   ]
  },
  {
   "cell_type": "code",
   "execution_count": null,
   "id": "31a3116f",
   "metadata": {},
   "outputs": [],
   "source": [
    "female_votes_ = Votes(dataframe_path='data/female_votes_per_user.csv')"
   ]
  },
  {
   "cell_type": "code",
   "execution_count": null,
   "id": "905bd186",
   "metadata": {},
   "outputs": [],
   "source": [
    "female_votes_.agreement"
   ]
  },
  {
   "cell_type": "code",
   "execution_count": null,
   "id": "0696b756",
   "metadata": {},
   "outputs": [],
   "source": [
    "from modules.read_dataframe import Comments\n",
    "\n",
    "comments = Comments(dataframe_path='data/female_labeled_comments.csv')"
   ]
  },
  {
   "cell_type": "code",
   "execution_count": null,
   "id": "c06d197c",
   "metadata": {},
   "outputs": [],
   "source": []
  }
 ],
 "metadata": {
  "kernelspec": {
   "display_name": "Python 3 (ipykernel)",
   "language": "python",
   "name": "python3"
  },
  "language_info": {
   "codemirror_mode": {
    "name": "ipython",
    "version": 3
   },
   "file_extension": ".py",
   "mimetype": "text/x-python",
   "name": "python",
   "nbconvert_exporter": "python",
   "pygments_lexer": "ipython3",
   "version": "3.9.12"
  }
 },
 "nbformat": 4,
 "nbformat_minor": 5
}
