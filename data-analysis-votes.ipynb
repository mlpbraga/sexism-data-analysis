{
 "cells": [
  {
   "cell_type": "code",
   "execution_count": 3,
   "id": "43bcc6c8",
   "metadata": {},
   "outputs": [],
   "source": [
    "DATA_FILE_NAME = 'data/05-03-2022_votes_per_user.csv' "
   ]
  },
  {
   "cell_type": "code",
   "execution_count": 4,
   "id": "a5bd8ae3",
   "metadata": {},
   "outputs": [],
   "source": [
    "from modules.retrieve_votes_data import Votes\n",
    "\n",
    "votes = Votes(dataframe_path=DATA_FILE_NAME)"
   ]
  },
  {
   "cell_type": "code",
   "execution_count": 6,
   "id": "9aa99f16",
   "metadata": {},
   "outputs": [
    {
     "data": {
      "text/plain": [
       "{9: {'vote_qty': 9, 'comment_qty': 1, 'kappa': 0.0},\n",
       " 7: {'vote_qty': 7, 'comment_qty': 12, 'kappa': -0.07692307692307697},\n",
       " 6: {'vote_qty': 6, 'comment_qty': 16, 'kappa': -0.0813093980992607},\n",
       " 5: {'vote_qty': 5, 'comment_qty': 199, 'kappa': 0.07008403190982523},\n",
       " 4: {'vote_qty': 4, 'comment_qty': 809, 'kappa': 0.4418747850513095},\n",
       " 3: {'vote_qty': 3, 'comment_qty': 2533, 'kappa': 0.38938563251999264},\n",
       " 2: {'vote_qty': 2, 'comment_qty': 18, 'kappa': 0.7777777777777777}}"
      ]
     },
     "execution_count": 6,
     "metadata": {},
     "output_type": "execute_result"
    }
   ],
   "source": [
    "votes.agreement"
   ]
  },
  {
   "cell_type": "code",
   "execution_count": 10,
   "id": "28fdbaea",
   "metadata": {},
   "outputs": [
    {
     "data": {
      "text/html": [
       "<div>\n",
       "<style scoped>\n",
       "    .dataframe tbody tr th:only-of-type {\n",
       "        vertical-align: middle;\n",
       "    }\n",
       "\n",
       "    .dataframe tbody tr th {\n",
       "        vertical-align: top;\n",
       "    }\n",
       "\n",
       "    .dataframe thead th {\n",
       "        text-align: right;\n",
       "    }\n",
       "</style>\n",
       "<table border=\"1\" class=\"dataframe\">\n",
       "  <thead>\n",
       "    <tr style=\"text-align: right;\">\n",
       "      <th></th>\n",
       "      <th>comment_id</th>\n",
       "      <th>user_id</th>\n",
       "      <th>age</th>\n",
       "      <th>vote</th>\n",
       "      <th>label</th>\n",
       "    </tr>\n",
       "    <tr>\n",
       "      <th>vote_id</th>\n",
       "      <th></th>\n",
       "      <th></th>\n",
       "      <th></th>\n",
       "      <th></th>\n",
       "      <th></th>\n",
       "    </tr>\n",
       "  </thead>\n",
       "  <tbody>\n",
       "    <tr>\n",
       "      <th>1</th>\n",
       "      <td>3256.0</td>\n",
       "      <td>1.0</td>\n",
       "      <td>24.0</td>\n",
       "      <td>0.0</td>\n",
       "      <td>0.333333</td>\n",
       "    </tr>\n",
       "    <tr>\n",
       "      <th>2</th>\n",
       "      <td>2770.0</td>\n",
       "      <td>53.0</td>\n",
       "      <td>23.0</td>\n",
       "      <td>0.0</td>\n",
       "      <td>0.333333</td>\n",
       "    </tr>\n",
       "    <tr>\n",
       "      <th>3</th>\n",
       "      <td>97.0</td>\n",
       "      <td>1.0</td>\n",
       "      <td>24.0</td>\n",
       "      <td>0.0</td>\n",
       "      <td>0.400000</td>\n",
       "    </tr>\n",
       "    <tr>\n",
       "      <th>4</th>\n",
       "      <td>2752.0</td>\n",
       "      <td>1.0</td>\n",
       "      <td>24.0</td>\n",
       "      <td>1.0</td>\n",
       "      <td>0.750000</td>\n",
       "    </tr>\n",
       "    <tr>\n",
       "      <th>5</th>\n",
       "      <td>1054.0</td>\n",
       "      <td>1.0</td>\n",
       "      <td>24.0</td>\n",
       "      <td>0.0</td>\n",
       "      <td>0.250000</td>\n",
       "    </tr>\n",
       "    <tr>\n",
       "      <th>...</th>\n",
       "      <td>...</td>\n",
       "      <td>...</td>\n",
       "      <td>...</td>\n",
       "      <td>...</td>\n",
       "      <td>...</td>\n",
       "    </tr>\n",
       "    <tr>\n",
       "      <th>12791</th>\n",
       "      <td>1034.0</td>\n",
       "      <td>579.0</td>\n",
       "      <td>22.0</td>\n",
       "      <td>0.0</td>\n",
       "      <td>0.500000</td>\n",
       "    </tr>\n",
       "    <tr>\n",
       "      <th>12792</th>\n",
       "      <td>2246.0</td>\n",
       "      <td>579.0</td>\n",
       "      <td>22.0</td>\n",
       "      <td>0.0</td>\n",
       "      <td>0.250000</td>\n",
       "    </tr>\n",
       "    <tr>\n",
       "      <th>12793</th>\n",
       "      <td>3665.0</td>\n",
       "      <td>579.0</td>\n",
       "      <td>22.0</td>\n",
       "      <td>0.0</td>\n",
       "      <td>0.000000</td>\n",
       "    </tr>\n",
       "    <tr>\n",
       "      <th>12794</th>\n",
       "      <td>3712.0</td>\n",
       "      <td>579.0</td>\n",
       "      <td>22.0</td>\n",
       "      <td>0.0</td>\n",
       "      <td>0.250000</td>\n",
       "    </tr>\n",
       "    <tr>\n",
       "      <th>12795</th>\n",
       "      <td>1775.0</td>\n",
       "      <td>579.0</td>\n",
       "      <td>22.0</td>\n",
       "      <td>1.0</td>\n",
       "      <td>0.500000</td>\n",
       "    </tr>\n",
       "  </tbody>\n",
       "</table>\n",
       "<p>12055 rows × 5 columns</p>\n",
       "</div>"
      ],
      "text/plain": [
       "         comment_id  user_id   age  vote     label\n",
       "vote_id                                           \n",
       "1            3256.0      1.0  24.0   0.0  0.333333\n",
       "2            2770.0     53.0  23.0   0.0  0.333333\n",
       "3              97.0      1.0  24.0   0.0  0.400000\n",
       "4            2752.0      1.0  24.0   1.0  0.750000\n",
       "5            1054.0      1.0  24.0   0.0  0.250000\n",
       "...             ...      ...   ...   ...       ...\n",
       "12791        1034.0    579.0  22.0   0.0  0.500000\n",
       "12792        2246.0    579.0  22.0   0.0  0.250000\n",
       "12793        3665.0    579.0  22.0   0.0  0.000000\n",
       "12794        3712.0    579.0  22.0   0.0  0.250000\n",
       "12795        1775.0    579.0  22.0   1.0  0.500000\n",
       "\n",
       "[12055 rows x 5 columns]"
      ]
     },
     "execution_count": 10,
     "metadata": {},
     "output_type": "execute_result"
    }
   ],
   "source": [
    "votes.votes_per_user.groupby(['vote_id']).mean()"
   ]
  },
  {
   "cell_type": "code",
   "execution_count": 14,
   "id": "5c1fd477",
   "metadata": {},
   "outputs": [
    {
     "name": "stdout",
     "output_type": "stream",
     "text": [
      "-> Configuring database...\n",
      "Connected to database: [ec2-54-84-35-171.compute-1.amazonaws.com] @ 0 seconds\n",
      "-> Database setup is done!\n"
     ]
    }
   ],
   "source": [
    "import pandas as pd\n",
    "import numpy as np\n",
    "from modules.database_connector import Database\n",
    "print('-> Configuring database...')\n",
    "database = Database()\n",
    "conn = database.get_connection()\n",
    "print('-> Database setup is done!')"
   ]
  },
  {
   "cell_type": "code",
   "execution_count": 21,
   "id": "b14a6b90",
   "metadata": {},
   "outputs": [
    {
     "name": "stdout",
     "output_type": "stream",
     "text": [
      "Média de votos:  68.7560975609756\n",
      "Mínimo de votos:  1\n",
      "Máximo de votos:  1043\n",
      "Mediana de votos:  42.0\n"
     ]
    }
   ],
   "source": [
    "x = pd.read_sql_query('select count(qtd), qtd from (select count(vote_id) as qtd from votes group by user_id) as u group by qtd;', conn)\n",
    "x = x.loc[:, ~x.columns.str.contains('^Unnamed')]\n",
    "print('Média de votos: ', np.mean(list(x['qtd'])))\n",
    "print('Mínimo de votos: ', np.min(list(x['qtd'])))\n",
    "print('Máximo de votos: ', np.max(list(x['qtd'])))\n",
    "print('Mediana de votos: ', np.median(list(x['qtd'])))"
   ]
  },
  {
   "cell_type": "code",
   "execution_count": null,
   "id": "6f8e15cc",
   "metadata": {},
   "outputs": [],
   "source": []
  }
 ],
 "metadata": {
  "kernelspec": {
   "display_name": "Python 3 (ipykernel)",
   "language": "python",
   "name": "python3"
  },
  "language_info": {
   "codemirror_mode": {
    "name": "ipython",
    "version": 3
   },
   "file_extension": ".py",
   "mimetype": "text/x-python",
   "name": "python",
   "nbconvert_exporter": "python",
   "pygments_lexer": "ipython3",
   "version": "3.9.9"
  }
 },
 "nbformat": 4,
 "nbformat_minor": 5
}
