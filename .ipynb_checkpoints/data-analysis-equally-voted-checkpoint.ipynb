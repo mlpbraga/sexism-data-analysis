{
 "cells": [
  {
   "cell_type": "code",
   "execution_count": 1,
   "id": "b8d0d4d7",
   "metadata": {},
   "outputs": [],
   "source": [
    "from modules.retrieve_votes_data import Votes\n",
    "import pandas as pd\n",
    "import numpy as np\n",
    "from nltk import agreement\n",
    "\n",
    "VOTES_DATA_FILE_NAME = 'data/05-03-2022_votes_per_user.csv'\n",
    "LABELED_DATA_FILE_NAME = 'data/05-03-2022_labeled_comments.csv'"
   ]
  },
  {
   "cell_type": "code",
   "execution_count": 2,
   "id": "0f70b830",
   "metadata": {},
   "outputs": [],
   "source": [
    "# load votes per user data to pandas dataframe\n",
    "votes_per_user = pd.read_csv(VOTES_DATA_FILE_NAME, sep=';')"
   ]
  },
  {
   "cell_type": "code",
   "execution_count": 3,
   "id": "f2bf5765",
   "metadata": {},
   "outputs": [],
   "source": [
    "# get only comments that have been voted by 4 users with equal gender distirbution\n",
    "vote_count = votes_per_user.groupby(['comment_id']).agg(['count'])\n",
    "comment_ids = list(vote_count['user_id'][vote_count['user_id']['count'] == 4].index)\n",
    "\n",
    "female_vote_count = votes_per_user[votes_per_user['gender']=='fem'].groupby(['comment_id']).agg(['count'])\n",
    "female_comment_ids = list(female_vote_count['user_id'][female_vote_count['user_id']['count'] == 2].index)\n",
    "male_vote_count = votes_per_user[votes_per_user['gender']=='masc'].groupby(['comment_id']).agg(['count'])\n",
    "male_comment_ids = list(male_vote_count['user_id'][male_vote_count['user_id']['count'] == 2].index)\n",
    "\n",
    "equal_comments = []\n",
    "for id in comment_ids:\n",
    "    if id in female_comment_ids and id in male_comment_ids:\n",
    "        equal_comments.append(id)"
   ]
  },
  {
   "cell_type": "code",
   "execution_count": 4,
   "id": "d0e45530",
   "metadata": {},
   "outputs": [],
   "source": [
    "def kappa_agreement(comment_ids, dataframe, comment_vote):\n",
    "    # generates a votes X user dataframe to each comment found\n",
    "    for comment in comment_ids:\n",
    "        df = dataframe[(dataframe['comment_id']== comment)]\n",
    "        keys = list(comment_vote.keys())\n",
    "\n",
    "        for i in range(0, len(keys)):\n",
    "            if keys[i] == 'comment_id':\n",
    "                comment_vote['comment_id'].append(comment)\n",
    "            else:\n",
    "                comment_vote[keys[i]].append(df.iloc[i-1].vote)\n",
    "    comment_vote = pd.DataFrame(comment_vote)\n",
    "\n",
    "    # calculates kappa value to voted comments\n",
    "\n",
    "    keys = list(comment_vote.keys())\n",
    "    coders = {}\n",
    "    for i in range(1, len(keys)):\n",
    "        coders[i] = list(comment_vote[keys[i]])\n",
    "\n",
    "    formatted_codes = []\n",
    "    for key in list(coders.keys()):\n",
    "        formatted_codes = formatted_codes + [[key,i,coders[key][i]] for i in range(len(coders[key]))]\n",
    "\n",
    "    ratingtask = agreement.AnnotationTask(data=formatted_codes)\n",
    "\n",
    "    return ratingtask.multi_kappa()"
   ]
  },
  {
   "cell_type": "code",
   "execution_count": 5,
   "id": "c3cd4251",
   "metadata": {},
   "outputs": [
    {
     "data": {
      "text/plain": [
       "0.4256501664871821"
      ]
     },
     "execution_count": 5,
     "metadata": {},
     "output_type": "execute_result"
    }
   ],
   "source": [
    "# Kappa to equally voted comments using 2x2 gender distribution\n",
    "comment_vote_eq = {\n",
    "    'comment_id': [],\n",
    "    'user_A': [],\n",
    "    'user_B': [],\n",
    "    'user_C': [],\n",
    "    'user_D': [],\n",
    "}\n",
    "kappa_agreement(equal_comments, votes_per_user, comment_vote_eq)"
   ]
  },
  {
   "cell_type": "code",
   "execution_count": 6,
   "id": "c4b3ec53",
   "metadata": {},
   "outputs": [],
   "source": [
    "df = votes_per_user[votes_per_user['comment_id'].isin(equal_comments)]"
   ]
  },
  {
   "cell_type": "code",
   "execution_count": 7,
   "id": "2dfa119d",
   "metadata": {},
   "outputs": [
    {
     "data": {
      "text/plain": [
       "0.5123489227535468"
      ]
     },
     "execution_count": 7,
     "metadata": {},
     "output_type": "execute_result"
    }
   ],
   "source": [
    "# female agreement\n",
    "comment_vote_fem = {\n",
    "    'comment_id': [],\n",
    "    'user_A': [],\n",
    "    'user_B': [],\n",
    "}\n",
    "female_votes_per_user = df[df['gender']=='fem']\n",
    "kappa_agreement(equal_comments, female_votes_per_user, comment_vote_fem)"
   ]
  },
  {
   "cell_type": "code",
   "execution_count": 8,
   "id": "73c44ec4",
   "metadata": {},
   "outputs": [
    {
     "data": {
      "text/plain": [
       "0.43958228812457034"
      ]
     },
     "execution_count": 8,
     "metadata": {},
     "output_type": "execute_result"
    }
   ],
   "source": [
    "# male agreement\n",
    "comment_vote_masc = {\n",
    "    'comment_id': [],\n",
    "    'user_A': [],\n",
    "    'user_B': [],\n",
    "}\n",
    "male_votes_per_user = df[df['gender']=='masc']\n",
    "kappa_agreement(equal_comments, male_votes_per_user, comment_vote_fem)"
   ]
  },
  {
   "cell_type": "markdown",
   "id": "1fb288e7",
   "metadata": {},
   "source": [
    "---"
   ]
  },
  {
   "cell_type": "code",
   "execution_count": 9,
   "id": "8a9380ba",
   "metadata": {},
   "outputs": [],
   "source": [
    "def should_be_selected(comment_id):\n",
    "    selected = votes_per_user[votes_per_user['comment_id']==comment_id]\n",
    "    count_fem = len(selected[selected['gender']=='fem'])\n",
    "    count_masc = len(selected[selected['gender']=='masc'])\n",
    "    label = labeled[labeled['comment_id']==comment_id]\n",
    "    ## this condition removes the not labeled comments to each gender\n",
    "    #if float(label['fem_avg']) == 0 and float(label['masc_avg']) == 0:\n",
    "    #    return False\n",
    "    if count_fem >= 2 and count_masc >=2:\n",
    "        return True\n",
    "    return False\n",
    "\n",
    "def calculate_fem_norm_avg(comment_id):\n",
    "    selected = female_votes_per_user[female_votes_per_user['comment_id']==comment_id]\n",
    "    return np.average(list(selected['vote']))*2-1\n",
    "\n",
    "def calculate_masc_norm_avg(comment_id):\n",
    "    selected = male_votes_per_user[male_votes_per_user['comment_id']==comment_id]\n",
    "    return np.average(list(selected['vote']))*2-1"
   ]
  },
  {
   "cell_type": "code",
   "execution_count": 10,
   "id": "814da765",
   "metadata": {},
   "outputs": [],
   "source": [
    "labeled = pd.read_csv(LABELED_DATA_FILE_NAME, sep=';')\n",
    "female_votes_per_user = votes_per_user[votes_per_user['gender']=='fem']\n",
    "male_votes_per_user = votes_per_user[votes_per_user['gender']=='masc']"
   ]
  },
  {
   "cell_type": "code",
   "execution_count": 11,
   "id": "21ddae30",
   "metadata": {},
   "outputs": [
    {
     "name": "stderr",
     "output_type": "stream",
     "text": [
      "/usr/local/lib/python3.9/site-packages/numpy/lib/function_base.py:495: RuntimeWarning: Mean of empty slice.\n",
      "  avg = a.mean(axis)\n",
      "/usr/local/lib/python3.9/site-packages/numpy/lib/function_base.py:495: RuntimeWarning: Mean of empty slice.\n",
      "  avg = a.mean(axis)\n"
     ]
    }
   ],
   "source": [
    "labeled['fem_avg'] = labeled['comment_id'].apply(calculate_fem_norm_avg)\n",
    "labeled['masc_avg'] = labeled['comment_id'].apply(calculate_masc_norm_avg)\n",
    "labeled['selected'] = labeled.comment_id.apply(should_be_selected)"
   ]
  },
  {
   "cell_type": "code",
   "execution_count": 15,
   "id": "e9aab5c8",
   "metadata": {},
   "outputs": [],
   "source": [
    "labeled = labeled[labeled['selected']==True]"
   ]
  },
  {
   "cell_type": "code",
   "execution_count": 16,
   "id": "f5245880",
   "metadata": {},
   "outputs": [],
   "source": [
    "Y = list(labeled['fem_avg'])\n",
    "X = list(labeled['masc_avg'])"
   ]
  },
  {
   "cell_type": "code",
   "execution_count": 17,
   "id": "0495fde1",
   "metadata": {},
   "outputs": [
    {
     "data": {
      "image/png": "[encoded data removed]",
      "text/plain": [
       "<Figure size 864x576 with 1 Axes>"
      ]
     },
     "metadata": {
      "needs_background": "light"
     },
     "output_type": "display_data"
    }
   ],
   "source": [
    "import numpy as np\n",
    "import matplotlib.pyplot as plt\n",
    "\n",
    "sizes = np.array([i for i in range(0,len(Y))])\n",
    "fig, ax = plt.subplots(figsize=(12, 8))\n",
    "\n",
    "plt.tight_layout()\n",
    "plt.scatter(X, Y, s=sizes*2)\n",
    "plt.axhline(0, color='black')\n",
    "plt.axvline(0, color='black')\n",
    "plt.xlabel(\"Male\")\n",
    "plt.ylabel(\"Female\")\n",
    "plt.show()"
   ]
  },
  {
   "cell_type": "code",
   "execution_count": null,
   "id": "b6e1c7d5",
   "metadata": {},
   "outputs": [],
   "source": [
    "def prevalence(positive, total):\n",
    "    return positive/total"
   ]
  },
  {
   "cell_type": "code",
   "execution_count": null,
   "id": "6cdcf001",
   "metadata": {},
   "outputs": [],
   "source": []
  }
 ],
 "metadata": {
  "kernelspec": {
   "display_name": "Python 3 (ipykernel)",
   "language": "python",
   "name": "python3"
  },
  "language_info": {
   "codemirror_mode": {
    "name": "ipython",
    "version": 3
   },
   "file_extension": ".py",
   "mimetype": "text/x-python",
   "name": "python",
   "nbconvert_exporter": "python",
   "pygments_lexer": "ipython3",
   "version": "3.9.12"
  }
 },
 "nbformat": 4,
 "nbformat_minor": 5
}
