{
 "cells": [
  {
   "cell_type": "markdown",
   "metadata": {},
   "source": [
    "### Libs"
   ]
  },
  {
   "cell_type": "code",
   "execution_count": 1,
   "metadata": {},
   "outputs": [],
   "source": [
    "import pandas as pd\n",
    "import numpy as np\n",
    "import pickle"
   ]
  },
  {
   "cell_type": "markdown",
   "metadata": {},
   "source": [
    "### Dataframe"
   ]
  },
  {
   "cell_type": "code",
   "execution_count": 2,
   "metadata": {},
   "outputs": [],
   "source": [
    "dataframe = pd.read_csv('./data/dataframe.csv')"
   ]
  },
  {
   "cell_type": "markdown",
   "metadata": {},
   "source": [
    "### Stratified Shuffle"
   ]
  },
  {
   "cell_type": "code",
   "execution_count": 3,
   "metadata": {},
   "outputs": [],
   "source": [
    "from sklearn.model_selection import StratifiedShuffleSplit\n",
    "cv = StratifiedShuffleSplit(n_splits=5, test_size=0.2, random_state=42)"
   ]
  },
  {
   "cell_type": "markdown",
   "metadata": {},
   "source": [
    "### Definitions"
   ]
  },
  {
   "cell_type": "code",
   "execution_count": 4,
   "metadata": {},
   "outputs": [],
   "source": [
    "y_df = dataframe['sexist']\n",
    "y = y_df.astype(int)"
   ]
  },
  {
   "cell_type": "code",
   "execution_count": 5,
   "metadata": {},
   "outputs": [],
   "source": [
    "from modules.select_features import select_features"
   ]
  },
  {
   "cell_type": "code",
   "execution_count": 6,
   "metadata": {},
   "outputs": [],
   "source": [
    "X_char_qty = select_features(dataframe, column='char-qty')\n",
    "X_word_qty = select_features(dataframe, column='word-qty')\n",
    "X_likes = select_features(dataframe, column='likes')\n",
    "X_dislikes = select_features(dataframe, column='dislikes')\n",
    "X_likes_dislikes = select_features(dataframe, columns=['likes','dislikes'])\n",
    "X_char_word_qty = select_features(dataframe, columns=['char-qty','word-qty'])\n",
    "X_likes_dislike_char_words = select_features(dataframe, columns=['likes','dislikes','char-qty','word-qty'])\n",
    "X_tf_100_sexist_words = select_features(dataframe, column='tf')"
   ]
  },
  {
   "cell_type": "code",
   "execution_count": null,
   "metadata": {},
   "outputs": [],
   "source": []
  },
  {
   "cell_type": "code",
   "execution_count": 7,
   "metadata": {},
   "outputs": [],
   "source": [
    "from modules.grid_search import grid_search"
   ]
  },
  {
   "cell_type": "markdown",
   "metadata": {},
   "source": [
    "# SVM"
   ]
  },
  {
   "cell_type": "code",
   "execution_count": 8,
   "metadata": {},
   "outputs": [],
   "source": [
    "from sklearn.svm import SVC\n",
    "\n",
    "# svm_params = dict(gamma=np.logspace(-9, 3, 3), C=np.logspace(-2, 10, 3))\n",
    "svm_params = dict(gamma=[1.0], C=[10.0])"
   ]
  },
  {
   "cell_type": "code",
   "execution_count": 9,
   "metadata": {},
   "outputs": [
    {
     "name": "stdout",
     "output_type": "stream",
     "text": [
      "Reading SVM with TF for 100 sexist words. Model\n",
      "Model loaded in: @ 0 seconds\n",
      "The best parameters are {'C': 10.0, 'gamma': 1.0} with a score of 0.90\n",
      "-------------------------------------------------------------------------------------------\n",
      "Reading SVM with Char quantity. Model\n",
      "Model loaded in: @ 0 seconds\n",
      "The best parameters are {'C': 10.0, 'gamma': 1.0} with a score of 0.51\n",
      "-------------------------------------------------------------------------------------------\n",
      "Reading SVM with Word quantity. Model\n",
      "Model loaded in: @ 0 seconds\n",
      "The best parameters are {'C': 10.0, 'gamma': 1.0} with a score of 0.53\n",
      "-------------------------------------------------------------------------------------------\n",
      "Reading SVM with Likes quantity. Model\n",
      "Model loaded in: @ 0 seconds\n",
      "The best parameters are {'C': 10.0, 'gamma': 1.0} with a score of 0.57\n",
      "-------------------------------------------------------------------------------------------\n",
      "Reading SVM with Likes quantity. Model\n",
      "Model loaded in: @ 0 seconds\n",
      "The best parameters are {'C': 10.0, 'gamma': 1.0} with a score of 0.57\n",
      "-------------------------------------------------------------------------------------------\n",
      "Reading SVM with Dislikes quantity. Model\n",
      "Model loaded in: @ 0 seconds\n",
      "The best parameters are {'C': 10.0, 'gamma': 1.0} with a score of 0.57\n",
      "-------------------------------------------------------------------------------------------\n",
      "Reading SVM with Likes and Dislikes quantity. Model\n",
      "Model loaded in: @ 0 seconds\n",
      "The best parameters are {'C': 10.0, 'gamma': 1.0} with a score of 0.56\n",
      "-------------------------------------------------------------------------------------------\n",
      "Reading SVM with Chars and Words quantity. Model\n",
      "Model loaded in: @ 0 seconds\n",
      "The best parameters are {'C': 10.0, 'gamma': 1.0} with a score of 0.52\n",
      "-------------------------------------------------------------------------------------------\n",
      "Reading SVM with Likes, Dislikes, Chars and Words quantity. Model\n",
      "Model loaded in: @ 0 seconds\n",
      "The best parameters are {'C': 10.0, 'gamma': 1.0} with a score of 0.55\n",
      "-------------------------------------------------------------------------------------------\n"
     ]
    }
   ],
   "source": [
    "svm_tf_100_sexist_words = grid_search(\n",
    "    './data/svm-tf_100_sexist_words-grid-search-model',\n",
    "    SVC(),\n",
    "    svm_params,\n",
    "    'SVM with TF for 100 sexist words',\n",
    "    X_tf_100_sexist_words, y,\n",
    "    # reload=True\n",
    ")\n",
    "svm_char_qty = grid_search(\n",
    "    './data/svm-char-qty-grid-search-model',\n",
    "    SVC(),\n",
    "    svm_params,\n",
    "    'SVM with Char quantity',\n",
    "    X_char_qty, y,\n",
    "    # reload=True\n",
    ")\n",
    "svm_word_qty = grid_search(\n",
    "    './data/svm-word-qty-grid-search-model',\n",
    "    SVC(),\n",
    "    svm_params,\n",
    "    'SVM with Word quantity',\n",
    "    X_word_qty, y,\n",
    "    # reload=True\n",
    ")\n",
    "svm_likes_qty = grid_search(\n",
    "    './data/svm-likes-grid-search-model',\n",
    "    SVC(),\n",
    "    svm_params,\n",
    "    'SVM with Likes quantity',\n",
    "    X_likes, y,\n",
    "    # reload=True\n",
    ")\n",
    "svm_likes_qty = grid_search(\n",
    "    './data/svm-likes-grid-search-model',\n",
    "    SVC(),\n",
    "    svm_params,\n",
    "    'SVM with Likes quantity',\n",
    "    X_likes, y,\n",
    "    # reload=True\n",
    ")\n",
    "svm_dislikes_qty = grid_search(\n",
    "    './data/svm-likes-grid-search-model',\n",
    "    SVC(),\n",
    "    svm_params,\n",
    "    'SVM with Dislikes quantity',\n",
    "    X_dislikes, y,\n",
    "    # reload=True\n",
    ")\n",
    "svm_likes_dislikes_qty = grid_search(\n",
    "    './data/svm-likes-dislikes-grid-search-model',\n",
    "    SVC(),\n",
    "    svm_params,\n",
    "    'SVM with Likes and Dislikes quantity',\n",
    "    X_likes_dislikes, y,\n",
    "    # reload=True\n",
    ")\n",
    "svm_chars_words_qty = grid_search(\n",
    "    './data/svm-chars-words-grid-search-model',\n",
    "    SVC(),\n",
    "    svm_params,\n",
    "    'SVM with Chars and Words quantity',\n",
    "    X_char_word_qty, y,\n",
    "    # reload=True\n",
    ")\n",
    "svm_likes_dislikes_chars_words_qty = grid_search(\n",
    "    './data/svm-likes-dislikes-chars-words-grid-search-model',\n",
    "    SVC(),\n",
    "    svm_params,\n",
    "    'SVM with Likes, Dislikes, Chars and Words quantity',\n",
    "    X_likes_dislike_char_words, y,\n",
    "    # reload=True\n",
    ")"
   ]
  },
  {
   "cell_type": "markdown",
   "metadata": {},
   "source": [
    "# K-NN"
   ]
  },
  {
   "cell_type": "code",
   "execution_count": 10,
   "metadata": {},
   "outputs": [],
   "source": [
    "from sklearn.neighbors import KNeighborsClassifier\n",
    "\n",
    "knn_params = dict(n_neighbors=[3, 5, 11, 19],\n",
    "                  weights=['uniform', 'distance'],\n",
    "                  metric=['euclidean', 'manhattan'])"
   ]
  },
  {
   "cell_type": "code",
   "execution_count": 11,
   "metadata": {
    "scrolled": true
   },
   "outputs": [
    {
     "name": "stdout",
     "output_type": "stream",
     "text": [
      "Reading KNN with TF for 100 sexist words. Model\n",
      "Model loaded in: @ 0 seconds\n",
      "The best parameters are {'metric': 'manhattan', 'n_neighbors': 5, 'weights': 'distance'} with a score of 0.84\n",
      "-------------------------------------------------------------------------------------------\n",
      "Reading KNN with Char quantity. Model\n",
      "Model loaded in: @ 0 seconds\n",
      "The best parameters are {'metric': 'euclidean', 'n_neighbors': 3, 'weights': 'uniform'} with a score of 0.52\n",
      "-------------------------------------------------------------------------------------------\n",
      "Reading KNN with Word quantity. Model\n",
      "Model loaded in: @ 0 seconds\n",
      "The best parameters are {'metric': 'euclidean', 'n_neighbors': 19, 'weights': 'distance'} with a score of 0.52\n",
      "-------------------------------------------------------------------------------------------\n",
      "Reading KNN with Likes quantity. Model\n",
      "Model loaded in: @ 0 seconds\n",
      "The best parameters are {'metric': 'euclidean', 'n_neighbors': 5, 'weights': 'distance'} with a score of 0.54\n",
      "-------------------------------------------------------------------------------------------\n",
      "Reading KNN with Likes quantity. Model\n",
      "Model loaded in: @ 0 seconds\n",
      "The best parameters are {'metric': 'euclidean', 'n_neighbors': 5, 'weights': 'distance'} with a score of 0.54\n",
      "-------------------------------------------------------------------------------------------\n",
      "Reading KNN with Dislikes quantity. Model\n",
      "Model loaded in: @ 0 seconds\n",
      "The best parameters are {'metric': 'euclidean', 'n_neighbors': 5, 'weights': 'distance'} with a score of 0.54\n",
      "-------------------------------------------------------------------------------------------\n",
      "Reading KNN with Likes and Dislikes quantity. Model\n",
      "Model loaded in: @ 0 seconds\n",
      "The best parameters are {'metric': 'euclidean', 'n_neighbors': 19, 'weights': 'uniform'} with a score of 0.54\n",
      "-------------------------------------------------------------------------------------------\n",
      "Reading KNN with Chars and Words quantity. Model\n",
      "Model loaded in: @ 0 seconds\n",
      "The best parameters are {'metric': 'euclidean', 'n_neighbors': 11, 'weights': 'uniform'} with a score of 0.53\n",
      "-------------------------------------------------------------------------------------------\n",
      "Reading KNN with Likes, Dislikes, Chars and Words quantity. Model\n",
      "Model loaded in: @ 0 seconds\n",
      "The best parameters are {'metric': 'euclidean', 'n_neighbors': 3, 'weights': 'distance'} with a score of 0.56\n",
      "-------------------------------------------------------------------------------------------\n"
     ]
    }
   ],
   "source": [
    "knn_tf_100_sexist_words = grid_search(\n",
    "    './data/knn-tf_100_sexist_words-grid-search-model',\n",
    "    KNeighborsClassifier(),\n",
    "    knn_params,\n",
    "    'KNN with TF for 100 sexist words',\n",
    "    X_tf_100_sexist_words, y,\n",
    "    # reload=True\n",
    ")\n",
    "knn_char_qty = grid_search(\n",
    "    './data/knn-char-qty-grid-search-model',\n",
    "    KNeighborsClassifier(),\n",
    "    knn_params,\n",
    "    'KNN with Char quantity',\n",
    "    X_char_qty, y,\n",
    "    # reload=True\n",
    ")\n",
    "knn_word_qty = grid_search(\n",
    "    './data/knn-word-qty-grid-search-model',\n",
    "    KNeighborsClassifier(),\n",
    "    knn_params,\n",
    "    'KNN with Word quantity',\n",
    "    X_word_qty, y,\n",
    "    # reload=True\n",
    ")\n",
    "knn_likes_qty = grid_search(\n",
    "    './data/knn-likes-grid-search-model',\n",
    "    KNeighborsClassifier(),\n",
    "    knn_params,\n",
    "    'KNN with Likes quantity',\n",
    "    X_likes, y,\n",
    "    # reload=True\n",
    ")\n",
    "knn_likes_qty = grid_search(\n",
    "    './data/knn-likes-grid-search-model',\n",
    "    KNeighborsClassifier(),\n",
    "    knn_params,\n",
    "    'KNN with Likes quantity',\n",
    "    X_likes, y,\n",
    "    # reload=True\n",
    ")\n",
    "knn_dislikes_qty = grid_search(\n",
    "    './data/knn-likes-grid-search-model',\n",
    "    KNeighborsClassifier(),\n",
    "    knn_params,\n",
    "    'KNN with Dislikes quantity',\n",
    "    X_dislikes, y,\n",
    "    # reload=True\n",
    ")\n",
    "knn_likes_dislikes_qty = grid_search(\n",
    "    './data/knn-likes-dislikes-grid-search-model',\n",
    "    KNeighborsClassifier(),\n",
    "    knn_params,\n",
    "    'KNN with Likes and Dislikes quantity',\n",
    "    X_likes_dislikes, y,\n",
    "    # reload=True\n",
    ")\n",
    "knn_chars_words_qty = grid_search(\n",
    "    './data/knn-chars-words-grid-search-model',\n",
    "    KNeighborsClassifier(),\n",
    "    knn_params,\n",
    "    'KNN with Chars and Words quantity',\n",
    "    X_char_word_qty, y,\n",
    "    # reload=True\n",
    ")\n",
    "knn_likes_dislikes_chars_words_qty = grid_search(\n",
    "    './data/knn-likes-dislikes-chars-words-grid-search-model',\n",
    "    KNeighborsClassifier(),\n",
    "    knn_params,\n",
    "    'KNN with Likes, Dislikes, Chars and Words quantity',\n",
    "    X_likes_dislike_char_words, y,\n",
    "    # reload=True\n",
    ")"
   ]
  },
  {
   "cell_type": "markdown",
   "metadata": {},
   "source": [
    "# Classification Report"
   ]
  },
  {
   "cell_type": "code",
   "execution_count": 12,
   "metadata": {},
   "outputs": [],
   "source": [
    "from modules.classification_report import print_means_report"
   ]
  },
  {
   "cell_type": "code",
   "execution_count": 13,
   "metadata": {},
   "outputs": [
    {
     "name": "stdout",
     "output_type": "stream",
     "text": [
      ">>> svm-tf-100-sexist-words scores\n",
      "Precisão média: 0.90415809008716\n",
      "Revocação média: 0.8999240681976353\n",
      "Média de F1: 0.8965469507449179\n",
      "\n",
      ">>> svm-char-qty scores\n",
      "Precisão média: 0.5093150279206438\n",
      "Revocação média: 0.5088941801423877\n",
      "Média de F1: 0.5072531129457081\n",
      "\n",
      ">>> svm-word-qty scores\n",
      "Precisão média: 0.5173393812684861\n",
      "Revocação média: 0.5172931281661959\n",
      "Média de F1: 0.5131534326147634\n",
      "\n",
      ">>> svm-char_word_qty scores\n",
      "Precisão média: 0.5162768391411378\n",
      "Revocação média: 0.5158539574414709\n",
      "Média de F1: 0.5130471001438397\n",
      "\n",
      ">>> svm-likes-qty scores\n",
      "Precisão média: 0.5368480150585491\n",
      "Revocação média: 0.5355515787735391\n",
      "Média de F1: 0.5341910137380477\n",
      "\n",
      ">>> svm-dislikes-qty scores\n",
      "Precisão média: 0.5653160537399426\n",
      "Revocação média: 0.5650314710267782\n",
      "Média de F1: 0.5646688166192343\n",
      "\n",
      ">>> svm-likes-dislikes-qty scores\n",
      "Precisão média: 0.5433840653062836\n",
      "Revocação média: 0.543082285437117\n",
      "Média de F1: 0.5415225063733384\n",
      "\n",
      ">>> svm-likes-dislikes-chars-words-qty scores\n",
      "Precisão média: 0.5827676862247553\n",
      "Revocação média: 0.5434097742896797\n",
      "Média de F1: 0.4915152952352814\n",
      "\n"
     ]
    }
   ],
   "source": [
    "print_means_report(X_tf_100_sexist_words, y, svm_tf_100_sexist_words, 'svm-tf-100-sexist-words')\n",
    "print_means_report(X_char_qty, y, svm_char_qty, 'svm-char-qty')\n",
    "print_means_report(X_word_qty, y, svm_word_qty, 'svm-word-qty')\n",
    "print_means_report(X_char_word_qty, y, svm_chars_words_qty, 'svm-char_word_qty')\n",
    "print_means_report(X_likes, y, svm_likes_qty, 'svm-likes-qty')\n",
    "print_means_report(X_dislikes, y, svm_dislikes_qty, 'svm-dislikes-qty')\n",
    "print_means_report(X_likes_dislikes, y, svm_likes_dislikes_qty, 'svm-likes-dislikes-qty')\n",
    "print_means_report(X_likes_dislike_char_words, y, svm_likes_dislikes_chars_words_qty, 'svm-likes-dislikes-chars-words-qty')"
   ]
  },
  {
   "cell_type": "code",
   "execution_count": 14,
   "metadata": {},
   "outputs": [
    {
     "name": "stdout",
     "output_type": "stream",
     "text": [
      ">>> knn-tf-100-sexist-words scores\n",
      "Precisão média: 0.8524632071730709\n",
      "Revocação média: 0.8464433535427002\n",
      "Média de F1: 0.8423647163209533\n",
      "\n",
      ">>> knn-char-qty scores\n",
      "Precisão média: 0.5127469168498682\n",
      "Revocação média: 0.5126623623766904\n",
      "Média de F1: 0.5117391232774571\n",
      "\n",
      ">>> knn-word-qty scores\n",
      "Precisão média: 0.495064762061247\n",
      "Revocação média: 0.49537114796351894\n",
      "Média de F1: 0.49271623649340335\n",
      "\n",
      ">>> knn-char_word_qty scores\n",
      "Precisão média: 0.5257617642507662\n",
      "Revocação média: 0.5255616457340314\n",
      "Média de F1: 0.5251177371644631\n",
      "\n",
      ">>> knn-likes-qty scores\n",
      "Precisão média: 0.5319802505251762\n",
      "Revocação média: 0.5295326516486474\n",
      "Média de F1: 0.5216680510292385\n",
      "\n",
      ">>> knn-dislikes-qty scores\n",
      "Precisão média: 0.5613626739612589\n",
      "Revocação média: 0.5596348967648155\n",
      "Média de F1: 0.5569184667995835\n",
      "\n",
      ">>> knn-likes-dislikes-qty scores\n",
      "Precisão média: 0.5403327384107834\n",
      "Revocação média: 0.5402858079818486\n",
      "Média de F1: 0.539145931989379\n",
      "\n",
      ">>> knn-likes-dislikes-chars-words-qty scores\n",
      "Precisão média: 0.5455039017684025\n",
      "Revocação média: 0.5451277662487557\n",
      "Média de F1: 0.544230924413512\n",
      "\n"
     ]
    }
   ],
   "source": [
    "print_means_report(X_tf_100_sexist_words, y, knn_tf_100_sexist_words, 'knn-tf-100-sexist-words')\n",
    "print_means_report(X_char_qty, y, knn_char_qty, 'knn-char-qty')\n",
    "print_means_report(X_word_qty, y, knn_word_qty, 'knn-word-qty')\n",
    "print_means_report(X_char_word_qty, y, knn_chars_words_qty, 'knn-char_word_qty')\n",
    "print_means_report(X_likes, y, knn_likes_qty, 'knn-likes-qty')\n",
    "print_means_report(X_dislikes, y, knn_dislikes_qty, 'knn-dislikes-qty')\n",
    "print_means_report(X_likes_dislikes, y, knn_likes_dislikes_qty, 'knn-likes-dislikes-qty')\n",
    "print_means_report(X_likes_dislike_char_words, y, knn_likes_dislikes_chars_words_qty, 'knn-likes-dislikes-chars-words-qty')"
   ]
  },
  {
   "cell_type": "code",
   "execution_count": null,
   "metadata": {},
   "outputs": [],
   "source": []
  }
 ],
 "metadata": {
  "kernelspec": {
   "display_name": "Python 3",
   "language": "python",
   "name": "python3"
  },
  "language_info": {
   "codemirror_mode": {
    "name": "ipython",
    "version": 3
   },
   "file_extension": ".py",
   "mimetype": "text/x-python",
   "name": "python",
   "nbconvert_exporter": "python",
   "pygments_lexer": "ipython3",
   "version": "3.7.6"
  }
 },
 "nbformat": 4,
 "nbformat_minor": 4
}
