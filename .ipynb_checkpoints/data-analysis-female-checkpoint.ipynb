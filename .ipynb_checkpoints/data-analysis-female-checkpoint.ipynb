{
 "cells": [
  {
   "cell_type": "code",
   "execution_count": 1,
   "id": "f67ef64e",
   "metadata": {},
   "outputs": [],
   "source": [
    "DATA_FILE_NAME = 'data/05-03-2022_votes_per_user.csv' "
   ]
  },
  {
   "cell_type": "code",
   "execution_count": 2,
   "id": "dc02f65e",
   "metadata": {},
   "outputs": [],
   "source": [
    "from modules.retrieve_votes_data import Votes\n",
    "import pandas as pd\n",
    "\n",
    "votes_ = Votes(dataframe_path=DATA_FILE_NAME)"
   ]
  },
  {
   "cell_type": "code",
   "execution_count": 3,
   "id": "35d57ee3",
   "metadata": {},
   "outputs": [],
   "source": [
    "group_votes = votes_.votes_per_user[['vote_id','comment_id']].groupby(['comment_id']).count()\n",
    "comments_w_4_votes = list(group_votes[group_votes['vote_id'] == 4].index)\n",
    "female_votes = votes_.votes_per_user[votes_.votes_per_user['gender']=='fem']\n",
    "comments_w_2_female_votes = female_votes[['vote_id','comment_id']].groupby(['comment_id']).count()\n",
    "comments_w_2_female_votes = list(comments_w_2_female_votes[comments_w_2_female_votes['vote_id'] == 2].index)"
   ]
  },
  {
   "cell_type": "code",
   "execution_count": 9,
   "id": "18d41dc9",
   "metadata": {},
   "outputs": [
    {
     "data": {
      "text/plain": [
       "234"
      ]
     },
     "execution_count": 9,
     "metadata": {},
     "output_type": "execute_result"
    }
   ],
   "source": [
    "equally_voted_comments = [x for x in comments_w_4_votes if x in comments_w_2_female_votes]\n",
    "len(equally_voted_comments)"
   ]
  },
  {
   "cell_type": "code",
   "execution_count": null,
   "id": "c32ac9a1",
   "metadata": {},
   "outputs": [],
   "source": [
    "try:\n",
    "    dataframe = pd.read_csv('data/equally_labeled_comments.csv', sep=';')\n",
    "    dataframe = dataframe.loc[:, ~dataframe.columns.str.contains('^Unnamed')]\n",
    "    equally_voted_votes = pd.read_csv('data/equally_votes_per_user.csv', sep=';')\n",
    "    equally_voted_votes = female_votes.loc[:, ~dataframe.columns.str.contains('^Unnamed')]\n",
    "    print('> Reading from csv...')\n",
    "except:\n",
    "    female_votes = votes_.votes_per_user[votes_.votes_per_user.vote_id.isin(equally_voted_comments)]\n",
    "    female_votes.to_csv('data/equally_votes_per_user.csv', sep=';') \n",
    "    dataframe = pd.read_csv('data/05-03-2022_labeled_comments.csv', sep=';');\n",
    "    for index,element in dataframe.iterrows():\n",
    "        votes = female_votes[female_votes['comment_id']==element.comment_id]\n",
    "        vote_mean = votes.vote.mean()\n",
    "        vote_quantity = votes.comment_id.count()\n",
    "        dataframe.loc[dataframe.comment_id == element.comment_id, 'avg'] = vote_mean\n",
    "        dataframe.loc[dataframe.comment_id == element.comment_id, 'votes'] = vote_quantity\n",
    "    dataframe.to_csv('data/equally_labeled_comments.csv', sep=';')    "
   ]
  },
  {
   "cell_type": "code",
   "execution_count": null,
   "id": "9dbceac2",
   "metadata": {},
   "outputs": [],
   "source": [
    "equally_voted_votes = Votes(dataframe_path='data/equally_votes_per_user.csv')"
   ]
  },
  {
   "cell_type": "code",
   "execution_count": 7,
   "id": "29a38252",
   "metadata": {},
   "outputs": [],
   "source": [
    "try:\n",
    "    dataframe = pd.read_csv('data/female_labeled_comments.csv', sep=';')\n",
    "    dataframe = dataframe.loc[:, ~dataframe.columns.str.contains('^Unnamed')]\n",
    "    female_votes = pd.read_csv('data/female_votes_per_user.csv', sep=';')\n",
    "    female_votes = female_votes.loc[:, ~dataframe.columns.str.contains('^Unnamed')]\n",
    "    print('> Reading from csv...')\n",
    "except:\n",
    "    female_votes = votes_.votes_per_user[votes_.votes_per_user['gender']=='fem']\n",
    "    female_votes.to_csv('data/female_votes_per_user.csv', sep=';') \n",
    "    dataframe = pd.read_csv('data/05-03-2022_labeled_comments.csv', sep=';');\n",
    "    for index,element in dataframe.iterrows():\n",
    "        votes = female_votes[female_votes['comment_id']==element.comment_id]\n",
    "        vote_mean = votes.vote.mean()\n",
    "        vote_quantity = votes.comment_id.count()\n",
    "        dataframe.loc[dataframe.comment_id == element.comment_id, 'avg'] = vote_mean\n",
    "        dataframe.loc[dataframe.comment_id == element.comment_id, 'votes'] = vote_quantity\n",
    "    dataframe.to_csv('data/female_labeled_comments.csv', sep=';')    "
   ]
  },
  {
   "cell_type": "code",
   "execution_count": null,
   "id": "0c1d5341",
   "metadata": {},
   "outputs": [],
   "source": [
    "int(e.comment_id)"
   ]
  },
  {
   "cell_type": "code",
   "execution_count": null,
   "id": "9038c22a",
   "metadata": {},
   "outputs": [],
   "source": [
    "diff = {}\n",
    "for index,element in dataframe.iterrows():\n",
    "    e = df[df.comment_id == element.comment_id]\n",
    "    if float(e.avg) != element.avg:\n",
    "        diff[int(e.comment_id)] = {'original': float(e.avg), 'female': float(element.avg)}"
   ]
  },
  {
   "cell_type": "code",
   "execution_count": null,
   "id": "8cc05784",
   "metadata": {},
   "outputs": [],
   "source": [
    "len(diff.keys())"
   ]
  },
  {
   "cell_type": "code",
   "execution_count": null,
   "id": "32ed21fa",
   "metadata": {},
   "outputs": [],
   "source": [
    "diff"
   ]
  },
  {
   "cell_type": "code",
   "execution_count": null,
   "id": "6e03f611",
   "metadata": {},
   "outputs": [],
   "source": [
    "female_vote_frequency = {}\n",
    "comments_vote_frequency = {}\n",
    "\n",
    "for index,element in female_votes.iterrows():\n",
    "    if element.comment_id not in comments_vote_frequency.keys():\n",
    "        comments_vote_frequency[element.comment_id] = 1\n",
    "    else:\n",
    "        comments_vote_frequency[element.comment_id] += 1\n",
    "\n",
    "for comment in comments_vote_frequency.keys():\n",
    "    if comments_vote_frequency[comment] not in female_vote_frequency.keys():\n",
    "        female_vote_frequency[comments_vote_frequency[comment]] = 1\n",
    "    else:\n",
    "        female_vote_frequency[comments_vote_frequency[comment]] += 1"
   ]
  },
  {
   "cell_type": "code",
   "execution_count": null,
   "id": "56b1f371",
   "metadata": {},
   "outputs": [],
   "source": []
  },
  {
   "cell_type": "code",
   "execution_count": null,
   "id": "103662eb",
   "metadata": {},
   "outputs": [],
   "source": [
    "def find_by_key(mydict, key):\n",
    "    return list(mydict.keys())[list(mydict.values()).index(key)]"
   ]
  },
  {
   "cell_type": "code",
   "execution_count": null,
   "id": "e076e42b",
   "metadata": {},
   "outputs": [],
   "source": [
    "find_by_key(comments_vote_frequency, 7)"
   ]
  },
  {
   "cell_type": "code",
   "execution_count": null,
   "id": "c28c6acd",
   "metadata": {},
   "outputs": [],
   "source": [
    "female_vote_frequency"
   ]
  },
  {
   "cell_type": "code",
   "execution_count": null,
   "id": "31a3116f",
   "metadata": {},
   "outputs": [],
   "source": [
    "female_votes_ = Votes(dataframe_path='data/female_votes_per_user.csv')"
   ]
  },
  {
   "cell_type": "code",
   "execution_count": null,
   "id": "905bd186",
   "metadata": {},
   "outputs": [],
   "source": [
    "female_votes_.agreement"
   ]
  },
  {
   "cell_type": "code",
   "execution_count": null,
   "id": "0696b756",
   "metadata": {},
   "outputs": [],
   "source": [
    "from modules.read_dataframe import Comments\n",
    "\n",
    "comments = Comments(dataframe_path='data/female_labeled_comments.csv')"
   ]
  },
  {
   "cell_type": "code",
   "execution_count": null,
   "id": "c06d197c",
   "metadata": {},
   "outputs": [],
   "source": []
  }
 ],
 "metadata": {
  "kernelspec": {
   "display_name": "Python 3 (ipykernel)",
   "language": "python",
   "name": "python3"
  },
  "language_info": {
   "codemirror_mode": {
    "name": "ipython",
    "version": 3
   },
   "file_extension": ".py",
   "mimetype": "text/x-python",
   "name": "python",
   "nbconvert_exporter": "python",
   "pygments_lexer": "ipython3",
   "version": "3.9.9"
  }
 },
 "nbformat": 4,
 "nbformat_minor": 5
}
